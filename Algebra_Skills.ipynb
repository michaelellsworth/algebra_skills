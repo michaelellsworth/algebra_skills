{
 "cells": [
  {
   "cell_type": "markdown",
   "metadata": {},
   "source": [
    "# Google Rank Algorithm and Adjacency Matrices!!!!!!!!!!!!!!"
   ]
  },
  {
   "cell_type": "markdown",
   "metadata": {},
   "source": [
    "## 1. Graphs and Matrices"
   ]
  },
  {
   "cell_type": "markdown",
   "metadata": {},
   "source": [
    "### Exercise: - Given a list of node stuff: first exercise in counting the amount of nodes going in and out of a graph"
   ]
  },
  {
   "cell_type": "markdown",
   "metadata": {},
   "source": [
    "### Exercise: - Given the same list of nodes convert it into a matrix"
   ]
  },
  {
   "cell_type": "markdown",
   "metadata": {},
   "source": [
    "<div style=\"background-color:#c5e0e6\">\n",
    "    <h3>Exercise 2.1</h3><span style=\"background-color: #c93f3a\">(assessed 4pts)</span>\n",
    "    \n",
    "Implement a procedure `interpolate` which takes in a list of points, and returns the interpolating polynomial of minimal degree, as given by the method above.\n",
    "\n",
    "</div>"
   ]
  },
  {
   "cell_type": "code",
   "execution_count": null,
   "metadata": {},
   "outputs": [],
   "source": [
    "def adjacency_Matrix(edges, n):\n",
    "    '''This function should take a list \"edges\" of pairs (a,b) of nodes indicating a directed edge from node a to node b, the number of nodes n\n",
    "     and return the adjacency matrix associated with the graph'''\n",
    "    #your code goes here\n",
    "    raise NotImplementedError"
   ]
  },
  {
   "cell_type": "code",
   "execution_count": null,
   "metadata": {},
   "outputs": [],
   "source": [
    "#simple cases with 5 or less vertices\n",
    "assert(M1.equals(Ms))\n",
    "assert()\n",
    "#larger test cases\n",
    "assert()\n",
    "assert()\n",
    "print(\"Success! Your function works for the given input\")"
   ]
  },
  {
   "cell_type": "markdown",
   "metadata": {},
   "source": [
    "## 2. Adding Weighting"
   ]
  },
  {
   "cell_type": "markdown",
   "metadata": {},
   "source": [
    "### Exercise: - Ordering the vertices "
   ]
  },
  {
   "cell_type": "markdown",
   "metadata": {},
   "source": [
    "### Exercise: - - Accounting for weighting calculation"
   ]
  },
  {
   "cell_type": "code",
   "execution_count": null,
   "metadata": {},
   "outputs": [],
   "source": []
  },
  {
   "cell_type": "markdown",
   "metadata": {},
   "source": [
    "## 3. Markov Matrices"
   ]
  },
  {
   "cell_type": "markdown",
   "metadata": {},
   "source": []
  },
  {
   "cell_type": "markdown",
   "metadata": {},
   "source": [
    "## 4. Adjacency Matrices"
   ]
  }
 ],
 "metadata": {
  "kernelspec": {
   "display_name": "Python 3",
   "language": "python",
   "name": "python3"
  },
  "language_info": {
   "name": "python",
   "version": "3.11.2"
  },
  "orig_nbformat": 4
 },
 "nbformat": 4,
 "nbformat_minor": 2
}
