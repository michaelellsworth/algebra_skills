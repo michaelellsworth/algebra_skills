{
 "cells": [
  {
   "cell_type": "markdown",
   "metadata": {},
   "source": [
    "# Google Rank Algorithm and Adjacency Matrices!!!!!!!!!!!!!!"
   ]
  },
  {
   "cell_type": "markdown",
   "metadata": {},
   "source": [
    "## 1. Graphs and Matrices"
   ]
  },
  {
   "cell_type": "markdown",
   "metadata": {},
   "source": [
    "### Exercise: - Given a list of node stuff: first exercise in counting the amount of nodes going in and out of a graph"
   ]
  },
  {
   "cell_type": "code",
   "outputs": [],
   "source": [
    "# some code, some more code\n",
    "from random import sample\n",
    "from random import randint\n",
    "\n",
    "def generate_d_graph(n):\n",
    "    \"\"\"\n",
    "    n - the number of nodes in the graph\n",
    "    \n",
    "    Generates a random directed graph with n nodes. \n",
    "    \"\"\"\n",
    "    \n",
    "    graph = []\n",
    "    if n > 26: # Making sure there aren't too many nodes to associated simple letters\n",
    "        raise ValueError(\"n must be an integer less than or equal to 26\")\n",
    "    else:\n",
    "        nodes = [chr(65+i) for i in range(n)] # Generates list of all nodes\n",
    "        \n",
    "        # Loops through each node and connects each to a random sample, \n",
    "        # of random size from 0 to 4, of nodes not including the current.\n",
    "        for i,node in enumerate(nodes): \n",
    "            nodes_copy = nodes.copy()\n",
    "            nodes_copy.remove(node)\n",
    "            graph += [(node, j) for j in sample(nodes_copy, randint(0,4))]\n",
    "    \n",
    "    # Checking that all nodes are included within the graph\n",
    "    connected_nodes = set([i[0] for i in graph] + [i[1] for i in graph])\n",
    "    nodes_in = [i for i in nodes if i not in connected_nodes]\n",
    "\n",
    "    if len(nodes) != 0:\n",
    "        # If not all nodes are connect, connect unconnected nodes to\n",
    "        # a random sample, of random size from 0 to 4, of nodes not including the current.\n",
    "        for i,node in enumerate(nodes_in):\n",
    "            nodes_copy = nodes.copy()\n",
    "            nodes_copy.remove(node)\n",
    "            graph += [(node, j) for j in sample(nodes_copy, randint(1,4))]\n",
    "    \n",
    "    return graph"
   ],
   "metadata": {
    "collapsed": false
   },
   "execution_count": null
  },
  {
   "cell_type": "markdown",
   "metadata": {},
   "source": [
    "### Exercise: - Given the same list of nodes convert it into a matrix"
   ]
  },
  {
   "cell_type": "markdown",
   "metadata": {},
   "source": [
    "## 2. Adding Weighting"
   ]
  },
  {
   "cell_type": "markdown",
   "metadata": {},
   "source": [
    "### Exercise: - Ordering the vertices "
   ]
  },
  {
   "cell_type": "markdown",
   "metadata": {},
   "source": [
    "### Exercise: - - Accounting for weighting calculation"
   ]
  },
  {
   "cell_type": "markdown",
   "metadata": {},
   "source": [
    "## 3. Markov Matrices"
   ]
  },
  {
   "cell_type": "markdown",
   "metadata": {},
   "source": []
  },
  {
   "cell_type": "markdown",
   "metadata": {},
   "source": [
    "## 4. Adjacency Matrices"
   ]
  },
  {
   "cell_type": "code",
   "outputs": [],
   "source": [],
   "metadata": {
    "collapsed": false
   }
  }
 ],
 "metadata": {
  "language_info": {
   "name": "python"
  },
  "orig_nbformat": 4,
  "kernelspec": {
   "name": "python3",
   "language": "python",
   "display_name": "Python 3 (ipykernel)"
  }
 },
 "nbformat": 4,
 "nbformat_minor": 2
}
