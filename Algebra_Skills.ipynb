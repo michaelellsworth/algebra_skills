{
 "cells": [
  {
   "cell_type": "markdown",
   "metadata": {},
   "source": [
    "# Adjacency Matrices and the Page-Rank algorithm"
   ]
  },
  {
   "cell_type": "markdown",
   "metadata": {},
   "source": [
    "This lab explores the Google Page-Rank Algorithm and it's relation to adjacency matrices. "
   ]
  },
  {
   "cell_type": "markdown",
   "metadata": {},
   "source": [
    "## 1. Graphs and Matrices"
   ]
  },
  {
   "cell_type": "markdown",
   "metadata": {},
   "source": [
    "Below we see a graph, we came across these in FPM, and now they return! This time, we assign directions to our edges, and so this becomes a $\\textit{directed}$ graph. We say that the edge $\\textit{enters}$ Node A and $\\textit{leaves}$ Node B. For simplicity, all graphs in this notebook will have no reflexive edges, that is edges which enter and leave the same node, and no duplicate edges, that is two edges entering and leaving the same nodes."
   ]
  },
  {
   "attachments": {
    "image.png": {
     "image/png": "[encoded data removed]"
    }
   },
   "cell_type": "markdown",
   "metadata": {},
   "source": [
    "![image.png](attachment:image.png)"
   ]
  },
  {
   "cell_type": "markdown",
   "metadata": {},
   "source": [
    "We can write the graph above as a list of tuples representing its edges with the first element being the node the edge is leaving and the second being the one it's entering. For example the edge from $B$ to $A$ in the graph above would be written $(B, A)$. This list of tuples and the list of nodes in a graph are enough to encode all the information of an unweighted graph."
   ]
  },
  {
   "cell_type": "markdown",
   "metadata": {
    "collapsed": false
   },
   "source": [
    "[($B$,$A$), ($B$,$C$), ($B$,$E$), ($C$,$A$), ($C$,$B$), ($C$,$D$), ($C$,$E$), ($D$,$E$), ($E$,$A$)]"
   ]
  },
  {
   "cell_type": "markdown",
   "metadata": {},
   "source": [
    "<div style=\"width: 95%; padding:10pt; color:#6c8dbd; background-color:#c5e0e6; border-radius: 6pt\">\n",
    "    <h3 style=\"color:#6c8dbd\">Exercise 1.1</h3><span style=\"color:#fafbfc;background-color: #c93f3a; border-radius: 3pt\">(assessed 1pts)</span>\n",
    "    \n",
    "Write a function that takes a list of directed edges represented by pairs $(a, b)$ and a node $\\mathbf{N}$ and counts the number of nodes with an edge entering $\\mathbf{N}$ and the number with an edge leaving $\\mathbf{N}$. Return this as a tuple.\n",
    "\n",
    "</div>"
   ]
  },
  {
   "cell_type": "code",
   "execution_count": 5,
   "metadata": {},
   "outputs": [],
   "source": [
    "def count_in_out_edges(edges, N):\n",
    "    '''This function should take a list \"edges\" of pairs (a,b) of nodes indicating a directed edge from node a to node b, a specific node N \n",
    "    and return a tuple of the number of edges going into and out of N'''\n",
    "    #your code goes here\n",
    "    raise NotImplementedError"
   ]
  },
  {
   "cell_type": "code",
   "execution_count": 3,
   "metadata": {
    "ExecuteTime": {
     "end_time": "2024-04-04T15:23:10.903171Z",
     "start_time": "2024-04-04T15:23:10.582052Z"
    }
   },
   "outputs": [
    {
     "ename": "NameError",
     "evalue": "name 'count_in_out_edges' is not defined",
     "output_type": "error",
     "traceback": [
      "\u001b[1;31m---------------------------------------------------------------------------\u001b[0m",
      "\u001b[1;31mNameError\u001b[0m                                 Traceback (most recent call last)",
      "\u001b[1;32m~\\AppData\\Local\\Temp\\ipykernel_19428\\3974536676.py\u001b[0m in \u001b[0;36m<module>\u001b[1;34m\u001b[0m\n\u001b[0;32m      2\u001b[0m \u001b[0mg1\u001b[0m \u001b[1;33m=\u001b[0m \u001b[0mgenerate_d_graph\u001b[0m\u001b[1;33m(\u001b[0m\u001b[1;36m3\u001b[0m\u001b[1;33m)\u001b[0m\u001b[1;33m\u001b[0m\u001b[1;33m\u001b[0m\u001b[0m\n\u001b[0;32m      3\u001b[0m \u001b[0mg2\u001b[0m \u001b[1;33m=\u001b[0m \u001b[0mgenerate_d_graph\u001b[0m\u001b[1;33m(\u001b[0m\u001b[1;36m2\u001b[0m\u001b[1;33m)\u001b[0m\u001b[1;33m\u001b[0m\u001b[1;33m\u001b[0m\u001b[0m\n\u001b[1;32m----> 4\u001b[1;33m \u001b[1;32massert\u001b[0m\u001b[1;33m(\u001b[0m\u001b[0mcount_in_out_edges\u001b[0m\u001b[1;33m(\u001b[0m\u001b[0mg1\u001b[0m\u001b[1;33m)\u001b[0m \u001b[1;33m==\u001b[0m \u001b[0min_out_sol\u001b[0m\u001b[1;33m(\u001b[0m\u001b[0mg1\u001b[0m\u001b[1;33m)\u001b[0m\u001b[1;33m)\u001b[0m\u001b[1;33m\u001b[0m\u001b[1;33m\u001b[0m\u001b[0m\n\u001b[0m\u001b[0;32m      5\u001b[0m \u001b[1;32massert\u001b[0m\u001b[1;33m(\u001b[0m\u001b[0mcount_in_out_edges\u001b[0m\u001b[1;33m(\u001b[0m\u001b[0mg2\u001b[0m\u001b[1;33m)\u001b[0m \u001b[1;33m==\u001b[0m \u001b[0min_out_sol\u001b[0m\u001b[1;33m(\u001b[0m\u001b[0mg2\u001b[0m\u001b[1;33m)\u001b[0m\u001b[1;33m)\u001b[0m\u001b[1;33m\u001b[0m\u001b[1;33m\u001b[0m\u001b[0m\n\u001b[0;32m      6\u001b[0m \u001b[1;31m#bigger test cases\u001b[0m\u001b[1;33m\u001b[0m\u001b[1;33m\u001b[0m\u001b[0m\n",
      "\u001b[1;31mNameError\u001b[0m: name 'count_in_out_edges' is not defined"
     ]
    }
   ],
   "source": [
    "#small example cases for debugging\n",
    "g1 = generate_d_graph(3)\n",
    "g2 = generate_d_graph(2)\n",
    "assert(count_in_out_edges(g1, 'b') == in_out_sol(g1, 'b'))\n",
    "assert(count_in_out_edges(g2, 'a') == in_out_sol(g2, 'a'))\n",
    "#bigger test cases\n",
    "h1 = generate_d_graph(15)\n",
    "h2 = generate_d_graph(20)\n",
    "assert(count_in_out_edges(h1, 'e') == in_out_sol(h1, 'e'))\n",
    "assert(count_in_out_edges(h2, 'h') == in_out_sol(h2, 'h'))\n",
    "print(\"Success! Your function works for the given input.\")"
   ]
  },
  {
   "cell_type": "markdown",
   "metadata": {},
   "source": [
    "We can alternatively display the relationships between nodes using a matrix $M$, so when an edge leaves node A and enters node B, we have a 1 in the position $M_{BA}$, NOT in $M_{AB}$. The matrix will be a square $n \\times n$ matrix where $n$ is the number of nodes in the graph. When two nodes C and D are not connected, we have a 0 in $M_{CD}$ and $M_{DC}$. This is the adjacency matrix of a directed graph. We can directly construct the adjacency matrix from the list of tuples we used previously."
   ]
  },
  {
   "cell_type": "markdown",
   "metadata": {
    "collapsed": false
   },
   "source": [
    "\\begin{align*}\n",
    "&\\;A\\;\\;\\;B\\;\\;\\;C\\;\\;\\;D\\;\\;\\;E\\\\ \\mathbf{M}=\n",
    "\\begin{matrix}\n",
    "    A \\\\\n",
    "    B \\\\\n",
    "    C \\\\\n",
    "    D \\\\\n",
    "    E \n",
    "\\end{matrix} &\\begin{bmatrix}\n",
    "    0 & 1 & 1 & 0 & 1\\\\\n",
    "    0 & 0 & 1 & 0 & 0\\\\\n",
    "    0 & 1 & 0 & 0 & 0\\\\\n",
    "    0 & 0 & 1 & 0 & 0\\\\\n",
    "    0 & 1 & 1 & 1 & 0\n",
    "\\end{bmatrix}\n",
    "\\end{align*}"
   ]
  },
  {
   "cell_type": "markdown",
   "metadata": {},
   "source": [
    "<div style=\"width: 95%; padding:10pt; color:#6c8dbd; background-color:#c5e0e6; border-radius: 6pt\">\n",
    "    <h3 style=\"color:#6c8dbd;\">Exercise 1.2</h3><span style=\"color:#fafbfc; background-color: #c93f3a; border-radius: 3pt\">(assessed 2pts)</span>\n",
    "    \n",
    "Write a function that takes a list of directed edges represented by pairs (a, b) and a list of the nodes in the graph and returns the adjacency matrix associated with that graph. (*Hint: You will most likely need to convert from symbols representing the nodes to integers*).\n",
    "\n",
    "</div>"
   ]
  },
  {
   "cell_type": "code",
   "execution_count": null,
   "metadata": {},
   "outputs": [],
   "source": [
    "def adjacency_Matrix(edges, nodes):\n",
    "    '''This function should take a list \"edges\" of pairs (a,b) of nodes indicating a directed edge from node a to node b, the number of nodes n\n",
    "     and return the adjacency matrix associated with the graph'''\n",
    "    #your code goes here\n",
    "    raise NotImplementedError"
   ]
  },
  {
   "cell_type": "code",
   "execution_count": 1,
   "metadata": {},
   "outputs": [
    {
     "ename": "NameError",
     "evalue": "name 'generate_d_graph' is not defined",
     "output_type": "error",
     "traceback": [
      "\u001b[1;31m---------------------------------------------------------------------------\u001b[0m",
      "\u001b[1;31mNameError\u001b[0m                                 Traceback (most recent call last)",
      "Cell \u001b[1;32mIn [1], line 2\u001b[0m\n\u001b[0;32m      1\u001b[0m \u001b[38;5;66;03m#simple cases with 5 or less vertices\u001b[39;00m\n\u001b[1;32m----> 2\u001b[0m g1 \u001b[38;5;241m=\u001b[39m \u001b[43mgenerate_d_graph\u001b[49m(\u001b[38;5;241m3\u001b[39m)\n\u001b[0;32m      3\u001b[0m g2 \u001b[38;5;241m=\u001b[39m generate_d_graph(\u001b[38;5;241m2\u001b[39m)\n\u001b[0;32m      4\u001b[0m \u001b[38;5;28;01massert\u001b[39;00m(adjacency_Matrix(g1, \u001b[38;5;241m3\u001b[39m)\u001b[38;5;241m.\u001b[39mequals(adjacency_sol(g1, \u001b[38;5;241m3\u001b[39m)))\n",
      "\u001b[1;31mNameError\u001b[0m: name 'generate_d_graph' is not defined"
     ]
    }
   ],
   "source": [
    "#simple cases with 5 or less vertices\n",
    "g1 = generate_d_graph(3)\n",
    "g2 = generate_d_graph(2)\n",
    "assert(adjacency_Matrix(g1, ['A', 'B', 'C']) == (adjacency_sol(g1, ['A', 'B', 'C'])))\n",
    "assert(adjacency_Matrix(g2, ['A', 'B']) == (adjacency_sol(g2, ['A', 'B'])))\n",
    "#larger test cases\n",
    "h1 = generate_d_graph(15)\n",
    "h2 = generate_d_graph(20)\n",
    "assert(adjacency_Matrix(h1, ['A', 'B', 'C', 'D', 'E', 'F', 'G', 'H', 'I', 'J', 'K', 'L', 'M', 'N', 'O']) == (adjacency_sol(h1,  ['A', 'B', 'C', 'D', 'E', 'F', 'G', 'H', 'I', 'J', 'K', 'L', 'M', 'N', 'O'])))\n",
    "assert(adjacency_Matrix(h2, ['A', 'B', 'C', 'D', 'E', 'F', 'G', 'H', 'I', 'J', 'K', 'L', 'M', 'N', 'O', 'P', 'Q', 'R', 'S', 'T']) == (adjacency_sol(h2,  ['A', 'B', 'C', 'D', 'E', 'F', 'G', 'H', 'I', 'J', 'K', 'L', 'M', 'N', 'O', 'P', 'Q', 'R', 'S', 'T'])))\n",
    "print(\"Success! Your function works for the given input.\")"
   ]
  },
  {
   "cell_type": "markdown",
   "metadata": {},
   "source": [
    "## 2. Adding Weighting"
   ]
  },
  {
   "cell_type": "markdown",
   "metadata": {},
   "source": [
    "When we add weight to a graph we add a value to each edge. This can represent many things including imposing a 'cost' on traversing that edge in a road network or the likelihood of randomly choosing an edge when leaving a node. As our graphs are directed, we can only traverse edges in one direction, and this doesn't change when we add weights. The adjacency matrix of a weighted graph replaces every $1$ in the unweighted version with the weight of the corresponding edge. We will be exploring Google's Page Rank algorithm (Named after both Larry Page and web pages) which ranks the 'importance' of different webpages. From now on web pages will be our nodes and links between those webpages will be our edges. The weights will be what we use to calculate this importance.\n",
    "\n",
    "A link from page $A$ to page $B$ can be thought of as a recommendation from page $A$ to page $B$. We want to value recommendations from pages which make very few recommendations so if $A$ makes $t$ total recommendations then we want every recommendation from $A$ to have a weight of $\\frac{1}{t}$. This means the adjacency matrix will now be:\n",
    "\\begin{equation*} \n",
    "m_{i, j} =\n",
    "\\begin{cases}\n",
    "0 & \\text{no link from $j$ to $i$} \\\\\n",
    "\\frac{1}{t_j} & \\text{otherwise}\n",
    "\\end{cases}\n",
    "\\end{equation*}\n",
    "Where $t_{j}$ is the total number of links exiting $j$. We can also think of these recommendations probabilistically as a crude estimation of how likely we are to go from page $A$ to page $B$ by randomly selecting one of the links to follow. This will become key."
   ]
  },
  {
   "cell_type": "markdown",
   "metadata": {
    "collapsed": false
   },
   "source": [
    "\\begin{align*}\n",
    "&\\;A\\;\\;\\;\\;\\;B\\;\\;\\;\\;\\;C\\;\\;\\;\\;\\;D\\;\\;\\;\\;\\;E\\\\ \\mathbf{M}=\n",
    "\\begin{matrix}\n",
    "    A \\\\\n",
    "    \\\\\n",
    "    B \\\\\n",
    "    \\\\\n",
    "    C \\\\\n",
    "    \\\\\n",
    "    D \\\\\n",
    "    \\\\\n",
    "    E \n",
    "\\end{matrix} &\\begin{bmatrix}\n",
    "    0 & 1/3 & 1/4 & 0 & 1\\\\\n",
    "    0 & 0 & 1/4 & 0 & 0\\\\\n",
    "    0 & 1/3 & 0 & 0 & 0\\\\\n",
    "    0 & 0 & 1/4 & 0 & 0\\\\\n",
    "    0 & 1/3 & 1/4 & 1 & 0\n",
    "\\end{bmatrix}\n",
    "\\end{align*}"
   ]
  },
  {
   "cell_type": "markdown",
   "metadata": {},
   "source": [
    "<div style=\"width: 95%; padding:10pt; color:#6c8dbd; background-color:#c5e0e6; border-radius: 6pt\">\n",
    "    <h3 style=\"color:#6c8dbd;\">Exercise 2.1</h3><span style=\"color:#fafbfc; background-color: #c93f3a; border-radius: 3pt\">(assessed 2pts)</span>\n",
    "    \n",
    "Write a function that takes a list of directed edges represented by pairs $(a, b)$ and returns the weighted adjacency matrix as we've defined it for the importance of web connections. (*Hint: You might save time on a solution by making use of 1.1 and 1.2*).\n",
    "\n",
    "</div>"
   ]
  },
  {
   "cell_type": "code",
   "execution_count": null,
   "metadata": {},
   "outputs": [],
   "source": [
    "def weighting_calc_simple(edges, n):\n",
    "    '''This function should take a list \"edges\" of pairs (a,b) of nodes indicating a directed edge from node a to node b, the number of nodes n\n",
    "     and return a list of pairs (a,c) with c being the importance of the node'''\n",
    "    #your code goes here\n",
    "    raise NotImplementedError"
   ]
  },
  {
   "cell_type": "code",
   "execution_count": 8,
   "metadata": {},
   "outputs": [
    {
     "name": "stdout",
     "output_type": "stream",
     "text": [
      "['A', 'B', 'C']\n"
     ]
    },
    {
     "ename": "ValueError",
     "evalue": "Sample larger than population or is negative",
     "output_type": "error",
     "traceback": [
      "\u001b[1;31m---------------------------------------------------------------------------\u001b[0m",
      "\u001b[1;31mValueError\u001b[0m                                Traceback (most recent call last)",
      "Cell \u001b[1;32mIn [8], line 1\u001b[0m\n\u001b[1;32m----> 1\u001b[0m g1 \u001b[38;5;241m=\u001b[39m \u001b[43mgenerate_d_graph\u001b[49m\u001b[43m(\u001b[49m\u001b[38;5;241;43m3\u001b[39;49m\u001b[43m)\u001b[49m\n\u001b[0;32m      2\u001b[0m g2 \u001b[38;5;241m=\u001b[39m generate_d_graph(\u001b[38;5;241m2\u001b[39m)\n\u001b[0;32m      3\u001b[0m \u001b[38;5;28;01massert\u001b[39;00m(weighting_calc_simple(g1, [\u001b[38;5;124m'\u001b[39m\u001b[38;5;124mA\u001b[39m\u001b[38;5;124m'\u001b[39m, \u001b[38;5;124m'\u001b[39m\u001b[38;5;124mB\u001b[39m\u001b[38;5;124m'\u001b[39m, \u001b[38;5;124m'\u001b[39m\u001b[38;5;124mC\u001b[39m\u001b[38;5;124m'\u001b[39m]) \u001b[38;5;241m==\u001b[39m (weighting_calc_simple_sol(g1, [\u001b[38;5;124m'\u001b[39m\u001b[38;5;124mA\u001b[39m\u001b[38;5;124m'\u001b[39m, \u001b[38;5;124m'\u001b[39m\u001b[38;5;124mB\u001b[39m\u001b[38;5;124m'\u001b[39m, \u001b[38;5;124m'\u001b[39m\u001b[38;5;124mC\u001b[39m\u001b[38;5;124m'\u001b[39m])))\n",
      "Cell \u001b[1;32mIn [2], line 20\u001b[0m, in \u001b[0;36mgenerate_d_graph\u001b[1;34m(n)\u001b[0m\n\u001b[0;32m     18\u001b[0m     nodes_copy \u001b[38;5;241m=\u001b[39m nodes\u001b[38;5;241m.\u001b[39mcopy()\n\u001b[0;32m     19\u001b[0m     nodes_copy\u001b[38;5;241m.\u001b[39mremove(node)\n\u001b[1;32m---> 20\u001b[0m     graph \u001b[38;5;241m+\u001b[39m\u001b[38;5;241m=\u001b[39m [(node, i) \u001b[38;5;28;01mfor\u001b[39;00m i \u001b[38;5;129;01min\u001b[39;00m \u001b[43msample\u001b[49m\u001b[43m(\u001b[49m\u001b[43mnodes_copy\u001b[49m\u001b[43m,\u001b[49m\u001b[43m \u001b[49m\u001b[43mrandint\u001b[49m\u001b[43m(\u001b[49m\u001b[38;5;241;43m1\u001b[39;49m\u001b[43m,\u001b[49m\u001b[38;5;241;43m4\u001b[39;49m\u001b[43m)\u001b[49m\u001b[43m)\u001b[49m]\n\u001b[0;32m     22\u001b[0m \u001b[38;5;28;01mreturn\u001b[39;00m graph\n",
      "File \u001b[1;32mC:\\Program Files\\WindowsApps\\PythonSoftwareFoundation.Python.3.10_3.10.3056.0_x64__qbz5n2kfra8p0\\lib\\random.py:482\u001b[0m, in \u001b[0;36mRandom.sample\u001b[1;34m(self, population, k, counts)\u001b[0m\n\u001b[0;32m    480\u001b[0m randbelow \u001b[38;5;241m=\u001b[39m \u001b[38;5;28mself\u001b[39m\u001b[38;5;241m.\u001b[39m_randbelow\n\u001b[0;32m    481\u001b[0m \u001b[38;5;28;01mif\u001b[39;00m \u001b[38;5;129;01mnot\u001b[39;00m \u001b[38;5;241m0\u001b[39m \u001b[38;5;241m<\u001b[39m\u001b[38;5;241m=\u001b[39m k \u001b[38;5;241m<\u001b[39m\u001b[38;5;241m=\u001b[39m n:\n\u001b[1;32m--> 482\u001b[0m     \u001b[38;5;28;01mraise\u001b[39;00m \u001b[38;5;167;01mValueError\u001b[39;00m(\u001b[38;5;124m\"\u001b[39m\u001b[38;5;124mSample larger than population or is negative\u001b[39m\u001b[38;5;124m\"\u001b[39m)\n\u001b[0;32m    483\u001b[0m result \u001b[38;5;241m=\u001b[39m [\u001b[38;5;28;01mNone\u001b[39;00m] \u001b[38;5;241m*\u001b[39m k\n\u001b[0;32m    484\u001b[0m setsize \u001b[38;5;241m=\u001b[39m \u001b[38;5;241m21\u001b[39m        \u001b[38;5;66;03m# size of a small set minus size of an empty list\u001b[39;00m\n",
      "\u001b[1;31mValueError\u001b[0m: Sample larger than population or is negative"
     ]
    }
   ],
   "source": [
    "g1 = generate_d_graph(3)\n",
    "g2 = generate_d_graph(2)\n",
    "assert(weighting_calc_simple(g1, ['A', 'B', 'C']) == (weighting_calc_simple_sol(g1, ['A', 'B', 'C'])))\n",
    "assert(weighting_calc_simple(g2, ['A', 'B']) == (weighting_calc_simple_sol(g2, ['A', 'B'])))\n",
    "#larger test cases\n",
    "h1 = generate_d_graph(15)\n",
    "h2 = generate_d_graph(20)\n",
    "assert(weighting_calc_simple(h1, ['A', 'B', 'C', 'D', 'E', 'F', 'G', 'H', 'I', 'J', 'K', 'L', 'M', 'N', 'O']) == (weighting_calc_simple_sol(h1,  ['A', 'B', 'C', 'D', 'E', 'F', 'G', 'H', 'I', 'J', 'K', 'L', 'M', 'N', 'O'])))\n",
    "assert(weighting_calc_simple(h2, ['A', 'B', 'C', 'D', 'E', 'F', 'G', 'H', 'I', 'J', 'K', 'L', 'M', 'N', 'O', 'P', 'Q', 'R', 'S', 'T']) == (weighting_calc_simple_sol(h2,  ['A', 'B', 'C', 'D', 'E', 'F', 'G', 'H', 'I', 'J', 'K', 'L', 'M', 'N', 'O', 'P', 'Q', 'R', 'S', 'T'])))\n",
    "print(\"Success! Your function works for the given input.\")"
   ]
  },
  {
   "cell_type": "markdown",
   "metadata": {},
   "source": [
    "We can immediately improve this weighting system. Note all recommendations are created equal. We want to prioritize recommendations (links) from important web pages. At first this seems difficult since we now need to calculate importance but we can get around with this with some linear algebra. If we take out simple weighting from before and call that adjacency matrix $M$. The importance of all the nodes can be written as a vector $\\vec{v}$ with $v_i$ corresponding to the importance of node $i$. We want to multiply each entry in $M$ by these values in other words $Mv$ which will be the importance vector we're looking for. Written in linear algebra:\n",
    "\\begin{equation*}\n",
    "\\vec{v} = M\\vec{v}.\n",
    "\\end{equation*}\n",
    "This means our importance vector should be an eigenvector of the adjacency matrix with eigenvalue $1$. Ideally we want this to be unique up to scaling since this will give us a single well defined ordering, but addressing this will take a little more work. We also note that currently a node connected to no other nodes will produce a column of all zeroes. This will be a problem as we continue so for now we assume that an unconnected nodes is in fact connected to all nodes. This seems odd but will be changed later."
   ]
  },
  {
   "cell_type": "markdown",
   "metadata": {},
   "source": [
    "If you run the code cell below a few times which will calculate the eigenvectors of our weighted adjacency matrix for a random graph what do you notice?"
   ]
  },
  {
   "cell_type": "code",
   "execution_count": null,
   "metadata": {},
   "outputs": [
    {
     "ename": "NameError",
     "evalue": "name 'generate_d_graph' is not defined",
     "output_type": "error",
     "traceback": [
      "\u001b[1;31m---------------------------------------------------------------------------\u001b[0m",
      "\u001b[1;31mNameError\u001b[0m                                 Traceback (most recent call last)",
      "Cell \u001b[1;32mIn [3], line 1\u001b[0m\n\u001b[1;32m----> 1\u001b[0m web \u001b[38;5;241m=\u001b[39m \u001b[43mgenerate_d_graph\u001b[49m(\u001b[38;5;241m15\u001b[39m)\n\u001b[0;32m      2\u001b[0m M \u001b[38;5;241m=\u001b[39m weighting_calc_simple(web, \u001b[38;5;241m15\u001b[39m)\n\u001b[0;32m      3\u001b[0m pretty_print(M\u001b[38;5;241m.\u001b[39meigenvectors_right())\n",
      "\u001b[1;31mNameError\u001b[0m: name 'generate_d_graph' is not defined"
     ]
    }
   ],
   "source": [
    "web = generate_d_graph(15)\n",
    "show_graph(web)\n",
    "M = weighting_calc_simple_sol_2(web, ['A', 'B', 'C', 'D', 'E', 'F', 'G', 'H', 'I', 'J', 'K', 'L', 'M', 'N', 'O'])\n",
    "pretty_print(table(M.eigenvectors_right()))"
   ]
  },
  {
   "cell_type": "markdown",
   "metadata": {},
   "source": [
    "You should see that $1$ always ends up being an eigenvalue, which is good news and will be discussed directly in the next section. Depending on the graph that gets generated, it may be the case that the dimension of $E(1, M)$ is not $1$, this will also be fixed in a later section. You should also notice that our eigenvector has a lot of $0$s which isn't ideal for ordering them."
   ]
  },
  {
   "cell_type": "markdown",
   "metadata": {},
   "source": [
    "## 3. Markov Matrices"
   ]
  },
  {
   "cell_type": "markdown",
   "metadata": {},
   "source": [
    "Markov matrices play a crucial role in various fields, including probability theory and dynamic systems. In this section, we will examine the properties of Markov matrices and develop a function to validate whether a given matrix conforms to the Markov property. Understanding Markov matrices is essential for analysing processes with probabilistic transitions."
   ]
  },
  {
   "cell_type": "markdown",
   "metadata": {},
   "source": [
    "Recall that a Markov matrix has non-negative entries and that the sum of entries of each column equal to 1. This tells us something very important about Markov matrices' eigenvalues. Recall the proof of Lemma 4.7.6 from your notes: a Markov matrix always has $\\lambda = 1$ as an eigenvalue. Do you think you can come up with a function that tests for this?"
   ]
  },
  {
   "cell_type": "markdown",
   "metadata": {},
   "source": [
    "<div style=\"width: 95%; padding:10pt; color:#6c8dbd; background-color:#c5e0e6; border-radius: 6pt\">\n",
    "    <h3 style=\"color:#6c8dbd;\">Exercise 3.1</h3><span style=\"color:#fafbfc; background-color: #c93f3a; border-radius: 3pt\">(assessed 1pts)</span>\n",
    "    \n",
    "Write a function that takes an $n\\times n$ matrix and returns whether or not that matrix is a valid Markov matrix.\n",
    "\n",
    "</div>"
   ]
  },
  {
   "cell_type": "code",
   "execution_count": null,
   "metadata": {},
   "outputs": [],
   "source": [
    "def validate_Markov(M):\n",
    "    '''This function takes in a matrix M and returns whether or not it is a Markov Matrix'''\n",
    "    #your code goes here\n",
    "    raise NotImplementedError"
   ]
  },
  {
   "cell_type": "code",
   "execution_count": null,
   "metadata": {},
   "outputs": [],
   "source": [
    "#small matrices for easy test cases\n",
    "assert(validate_Markov(generate_markov(4)))\n",
    "assert(not(validate_Markov(generate_markov(4) + 0.2*adjacency_sol(generate_d_graph(4), ['A', 'B', 'C', 'D']))))\n",
    "#big bad test cases\n",
    "assert(validate_Markov(generate_markov(25)))\n",
    "assert(not(validate_Markov(generate_markov(25)  + 0.2*adjacency_sol(generate_d_graph(25), ['A', 'B', 'C', 'D', 'E', 'F', 'G', 'H', 'I', 'J', 'K', 'L', 'M', 'N', 'O', 'P', 'Q', 'R', 'S', 'T', 'U', 'V', 'W', 'X', 'Y']))))\n",
    "print(\"Success! Your function works for the given test input.\")"
   ]
  },
  {
   "cell_type": "markdown",
   "metadata": {},
   "source": [
    "We care about Markov matrices because our weighted adjacency matrix is a Markov matrix. Verifying this is simple since along each row there are $t$ entries which are $\\frac{1}{t}$ so the sum along any row is:\n",
    "\\begin{equation*}\\sum_{i=1}^{t}\\frac{1}{t} = \\frac{t}{t} = 1.\\end{equation*}\n",
    "This explains why our matrix has always had an eigenvalue of $1$. It is also why we went ahead and defined a node with no outgoing connections to be connected everywhere since otherwise some columns of our matrix would sum to $0$. This also somewhat intuitively represents arriving at a dead end webpage and jumping to another random page and continuing to explore the web from there. If you aren't entirely convinced you can run the code cell below after completing exercises $2.1$ and $3.1$ to help verify your solutions and the claimed property."
   ]
  },
  {
   "cell_type": "code",
   "execution_count": null,
   "metadata": {},
   "outputs": [],
   "source": [
    "for i in range(50):\n",
    "        graph = generate_d_graph(20)\n",
    "        assert(validate_Markov(weighting_calc_simple_sol_2(graph, ['A', 'B', 'C', 'D', 'E', 'F', 'G', 'H', 'I', 'J', 'K', 'L', 'M', 'N', 'O', 'P', 'Q', 'R', 'S', 'T'])))\n",
    "pretty_print(\"Worked for quite a few tests.\")"
   ]
  },
  {
   "cell_type": "markdown",
   "metadata": {},
   "source": [
    "## 4. Teleportation Matrices"
   ]
  },
  {
   "cell_type": "markdown",
   "metadata": {},
   "source": [
    "If we again think about our graphs, with each node as a webpage, and each edge as a link between two webpages, we can encounter some issues while trying to traverse this graph. $\\textit{Dangling nodes}$ occur when we have a node which only has edges entering it, and none leaving, so we cannot physically leave this node once we enter, these are alternatively known as $\\textit{sink nodes}$. An easy example of a webpage like this is a PDF made of images. We may also end up with nodes with no incoming connections. Our eigenvector is in some sense the eventual result of a random infinite walk around the graph. If we have these types of nodes we will never end up in these nodes with no incoming connections since we can only ever reach these nodes from a random jump from a dangling node. This will lead to entries being zero and we clearly don't think these  webpages are completely unimportant so we need to deal with this. In the cell below you can see an example of such a graph and the resulting eigenvector with zeroes for entries."
   ]
  },
  {
   "cell_type": "code",
   "execution_count": 5,
   "metadata": {},
   "outputs": [
    {
     "name": "stdout",
     "output_type": "stream",
     "text": [
      "(2, 1)\n"
     ]
    },
    {
     "data": {
      "image/png": "[encoded data removed]",
      "text/plain": [
       "<Figure size 600x400 with 1 Axes>"
      ]
     },
     "metadata": {},
     "output_type": "display_data"
    }
   ],
   "source": [
    "ex_graph_1 = [('a', 'c'), ('c', 'e'), ('a', 'b'), ('c', 'b'), ('b', 'd'), ('d', 'b'), ('d', 'f'), ('d', 'e'), ('e', 'f'), ('h', 'f'), ('f', 'h')]\n",
    "show_graph(ex_graph_1)\n",
    "ex_1_m = weighting_calc_simple_sol_2(ex_graph_1, ['a', 'b', 'c', 'd', 'e', 'f', 'g', 'h'])\n",
    "pretty_print(table(ex_1_m.eigenvectors_right()))"
   ]
  },
  {
   "cell_type": "markdown",
   "metadata": {},
   "source": [
    "Disconnected components provide a different challenge, if we somehow have a completely independent section of the graph, where all nodes are connected only within this section and no edges leave the group we have disconnected components. These would be, in practice, pages which  only refer to themselves and are not referenced by any other pages (i.e., purely reflexive pages), or internet sections which only reference each other and reference no external pages. In this situation, our adjacency matrix will have a multi-dimensional eigenspace each with non-zero entries corresponding to one of the components so we can't properly compare these nodes. Again, an example of this can be seen by running the code cell below."
   ]
  },
  {
   "cell_type": "code",
   "execution_count": 2,
   "metadata": {},
   "outputs": [
    {
     "ename": "NameError",
     "evalue": "name 'show_graph' is not defined",
     "output_type": "error",
     "traceback": [
      "\u001b[1;31m---------------------------------------------------------------------------\u001b[0m",
      "\u001b[1;31mNameError\u001b[0m                                 Traceback (most recent call last)",
      "Cell \u001b[1;32mIn [2], line 2\u001b[0m\n\u001b[0;32m      1\u001b[0m ex_graph_2 \u001b[38;5;241m=\u001b[39m [(\u001b[38;5;124m'\u001b[39m\u001b[38;5;124ma\u001b[39m\u001b[38;5;124m'\u001b[39m, \u001b[38;5;124m'\u001b[39m\u001b[38;5;124mb\u001b[39m\u001b[38;5;124m'\u001b[39m), (\u001b[38;5;124m'\u001b[39m\u001b[38;5;124mb\u001b[39m\u001b[38;5;124m'\u001b[39m, \u001b[38;5;124m'\u001b[39m\u001b[38;5;124mc\u001b[39m\u001b[38;5;124m'\u001b[39m), (\u001b[38;5;124m'\u001b[39m\u001b[38;5;124mc\u001b[39m\u001b[38;5;124m'\u001b[39m, \u001b[38;5;124m'\u001b[39m\u001b[38;5;124ma\u001b[39m\u001b[38;5;124m'\u001b[39m), (\u001b[38;5;124m'\u001b[39m\u001b[38;5;124md\u001b[39m\u001b[38;5;124m'\u001b[39m, \u001b[38;5;124m'\u001b[39m\u001b[38;5;124me\u001b[39m\u001b[38;5;124m'\u001b[39m), (\u001b[38;5;124m'\u001b[39m\u001b[38;5;124me\u001b[39m\u001b[38;5;124m'\u001b[39m, \u001b[38;5;124m'\u001b[39m\u001b[38;5;124mf\u001b[39m\u001b[38;5;124m'\u001b[39m), (\u001b[38;5;124m'\u001b[39m\u001b[38;5;124mf\u001b[39m\u001b[38;5;124m'\u001b[39m, \u001b[38;5;124m'\u001b[39m\u001b[38;5;124md\u001b[39m\u001b[38;5;124m'\u001b[39m)]\n\u001b[1;32m----> 2\u001b[0m \u001b[43mshow_graph\u001b[49m(ex_graph_2)\n\u001b[0;32m      3\u001b[0m \u001b[38;5;28mprint\u001b[39m(weighting_calc_simple(ex_graph_2)\u001b[38;5;241m.\u001b[39meigenvector_right())\n",
      "\u001b[1;31mNameError\u001b[0m: name 'show_graph' is not defined"
     ]
    }
   ],
   "source": [
    "ex_graph_2 = [('a', 'b'), ('b', 'c'), ('c', 'a'), ('d', 'e'), ('e', 'f'), ('f', 'd')]\n",
    "show_graph(ex_graph_2)\n",
    "ex_2_m = weighting_calc_simple_sol_2(ex_graph_2, ['a', 'b', 'c', 'd', 'e', 'f'])\n",
    "pretty_print(ex_2_m)\n",
    "pretty_print(table(ex_2_m.eigenvectors_right()))"
   ]
  },
  {
   "cell_type": "markdown",
   "metadata": {},
   "source": [
    "In order to fix both of these these issues, we look to $\\textit{teleportation matrices}$, which allow us to occasionally jump to a random node, regardless of it's connections. We calculate this matrix by:\n",
    "\n",
    "$T = \\frac{1}{N} \\cdot J$,\n",
    "\n",
    " where $N$= number of pages, and $J$ is a matrix of all ones.\n",
    "\n",
    "\n",
    "In order to construct a teleportation matrix, we must introduce a damping factor $d$, as seen above. This is usually between $0.85-0.95$. The teleportation matrix can be thought of as sometimes randomly deciding to jump to a new random webpage. This prevents us getting stuck and allows us to move between disconnected components.\n",
    "\n",
    "We define our new \"adjacency\" matrix by the formula:\n",
    "\\begin{equation*} G = dM + (1-d)T\\end{equation*}.\n",
    "Crucially, this formula still produces a Markov matrix so we get to keep the nice properties we've developed so far. We can verify this pretty easily since the sum along any row of both matrices is $1$. We then multiply them by $d$ and $1-d$ and add them so the sum across both will be $d + (1-d) = 1$. We have only informally explained why the teleportation matrix fixes our issues, fortunately we have a rigorous mathematical justification as well in the form of the Perron-Frobenius Theorem.\n",
    "\n",
    "**Perron-Frobenius Theorem** - If $M \\in Mat(n;\\mathbb{R})$  is a Markov matrix all of whose entries are positive, then the eigenspace $E(1,M)$ is one dimensional. There exists a unique basis vector $\\vec{\\text{v}} \\in E(1,M)$ all of whose entries are positive real numbers, $v_i > 0$ $\\forall i$, and such that the sum of it's entries is 1, $\\sum_{i=1}^{n}v_i = 1$.\n",
    "\n",
    "This theorem only applies now because we have no $0$ entries in $G$ they are instead all strictly positive. This follows from $M$ have all non-negative entries and all the entries in $T$ being $\\frac{1}{N}>0$. Since we are now guaranteed a single eigenvector associated with the eigenvalue of $1$, which will have all positive values. We finally have our vector of 'importances' and we can rank our webpages according to the entries in the vector. This is the fundamental theory behind why PageRank works."
   ]
  },
  {
   "cell_type": "markdown",
   "metadata": {},
   "source": [
    "a dangling node"
   ]
  },
  {
   "attachments": {
    "image.png": {
     "image/png": "[encoded data removed]"
    }
   },
   "cell_type": "markdown",
   "metadata": {},
   "source": [
    "![image.png](attachment:image.png)"
   ]
  },
  {
   "cell_type": "markdown",
   "metadata": {},
   "source": [
    "<div style=\"width: 95%; padding:10pt; color:#6c8dbd; background-color:#c5e0e6; border-radius: 6pt\">\n",
    "    <h3 style=\"color:#6c8dbd;\">Exercise 4.1</h3><span style=\"color:#fafbfc; background-color: #c93f3a; border-radius: 3pt\">(assessed 1pts)</span>\n",
    "    \n",
    "Write a function that returns the full Google matrix defined by G = dM + (1-d)M for some d between 0 and 1.\n",
    "\n",
    "</div>"
   ]
  },
  {
   "cell_type": "code",
   "execution_count": null,
   "metadata": {},
   "outputs": [],
   "source": [
    "def Google_matrix(M, d):\n",
    "    '''This function takes in a matrix M which is the Markov adjacency matrix of a graph we have defined \n",
    "    and returns the Google Matrix using the damping factor d'''\n",
    "    #your code goes here\n",
    "    raise NotImplementedError"
   ]
  },
  {
   "cell_type": "code",
   "execution_count": null,
   "metadata": {},
   "outputs": [],
   "source": [
    "assert()\n",
    "assert()\n",
    "assert()\n",
    "assert()\n",
    "print(\"Success! Your function works for the given test input.\")"
   ]
  },
  {
   "cell_type": "markdown",
   "metadata": {},
   "source": [
    "## 5. PageRank Algorithm\n",
    "\n",
    "We now finally have all the pieces to construct the PageRank algorithm which we will now put together in a full step by step description. We will also address some practical concerns about how to calculate the ranks for significantly larger examples."
   ]
  },
  {
   "cell_type": "markdown",
   "metadata": {},
   "source": [
    "Before we fully set out PageRank, a reasonable question is how we plan on calculating the eigenvectors of our Markov matrix for extremely large matrices. There are over 30 billion web pages, so even just ranking a fraction of them could get very computationally intensive. This can be improved by using the formula:\n",
    "\\begin{equation*}\n",
    "\\lim_{k \\rightarrow \\infty}M^k\\vec{w} = \\vec{v}.\n",
    "\\end{equation*}\n",
    "\n",
    "I want to add at least some discussion of convergence here!\n",
    "\n",
    "The vector $\\vec{w}$ is any initial starting guess where all of the entries of $\\vec{w}$ are strictly positive and $\\left| \\vec{w} \\right| = 1$. This shifts the calculation to repeated powers of the Markov matrix, which is what efficient algorithms exist for. The simplest is the power method, which works exactly as you would expect, repeatedly multiplying by the Markov matrix until we reach some tolerance that we've defined. More formal pseudocode would be:\n",
    "```\n",
    "  Function power_method(M, tolerance, w)\n",
    "    v = Mw;\n",
    "    while |v-w| > tolerance:\n",
    "        w = v\n",
    "        v = Mw / |Mw|\n",
    "    return v\n",
    "```\n",
    "There are other methods for calculating the vector $\\vec{v}$, including the inner-outer iteration method you can read about [here](https://www.sciencedirect.com/science/article/pii/S0377042714004294#:~:text=The%20PageRank%20algorithm%20makes%20use,link%20graph%20in%20the%20model.), which also presents a method introduced in 2015. [This](https://arxiv.org/pdf/2205.01598.pdf) paper which explores the topic of sparse matrix dense vector multiplication more generally."
   ]
  },
  {
   "cell_type": "markdown",
   "metadata": {},
   "source": [
    "<div style=\"width: 95%; padding:10pt; color:#6c8dbd; background-color:#c5e0e6; border-radius: 6pt\">\n",
    "    <h3 style=\"color:#6c8dbd;\">Exercise 5.1</h3><span style=\"color:#fafbfc; background-color: #c93f3a; border-radius: 3pt\">(assessed 1pts)</span>\n",
    "    \n",
    "Write a function that implements the power method algorithm for a matrix $M$, a given starting vector $\\vec{w}$, and a tolerance $t$.\n",
    "\n",
    "</div>"
   ]
  },
  {
   "cell_type": "code",
   "execution_count": null,
   "metadata": {},
   "outputs": [],
   "source": [
    "def power_method(M, w, t):\n",
    "    '''This function implements the power method for a matrix M a vector w and a tolerance t'''\n",
    "    #your code goes here\n",
    "    raise NotImplementedError"
   ]
  },
  {
   "cell_type": "code",
   "execution_count": null,
   "metadata": {},
   "outputs": [],
   "source": [
    "assert()\n",
    "assert()\n",
    "assert()\n",
    "assert()\n",
    "print(\"Success! Your function works for the given test input.\")"
   ]
  },
  {
   "cell_type": "markdown",
   "metadata": {},
   "source": [
    "The power method at first does not seem very efficient or clever and in general it isn't. However, since web pages don't generally connect to almost all other webpages, most of the elements of the matrix $M$'s in out formula for the Google matrix $G = dM + (1-d)T$ are $0$, and $T$ is a simple constant so we can split the problem up and only deal with the matrix multiplication for $M$. \n",
    "\n",
    "This is convenient because the power method is known to be relatively fast for sparse matrices allowing us to do our computation in a reasonable amount of time. We can finally explicitly write the iterative formula for the PageRank of any particular page:\n",
    "\\begin{equation*}PR(P_i) = \\frac{(1 - d)}{N} + d \\times \\left( \\frac{PR(P_1)}{L(P_1)} + \\frac{PR(P_2)}{L(P_2)} + \\ldots + \\frac{PR(P_n)}{L(P_n)} \\right),\\end{equation*}\n",
    "where $PR(P_i)$ is the PageRank of page $P_i$, $L(P_i)$ is the number of links going out from page $P_i$, and $PR(P_j)$ is the PageRank of page $P_j$ linking to page $P_i$. \n",
    "\n",
    "This equation is actually slightly different than the initial publication from Larry Page and Sergey Brin, as they left off the division by $N$ in the first term by mistake. We can write this formula again in matrix notation as:\n",
    "\\begin{equation*} gotta write this at some point\\end{equation*}\n",
    "It is also worth mentioning that this ranking system is not unique to web pages, and applies to any network of relationships that you want to rank where the rank of one node depends on the ranks of others it's related to. For example German mathematician [Edmund Georg Hermann Landau](https://en.wikipedia.org/wiki/Edmund_Landau) proposed using it for chess tournament ranking in the late 1890s."
   ]
  },
  {
   "cell_type": "markdown",
   "metadata": {},
   "source": [
    "<div style=\"width: 95%; padding:10pt; color:#6c8dbd; background-color:#c5e0e6; border-radius: 6pt\">\n",
    "    <h3 style=\"color:#6c8dbd;\">Exercise 5.2</h3><span style=\"color:#fafbfc; background-color: #c93f3a; border-radius: 3pt\">(assessed 1pts)</span>\n",
    "    \n",
    "Given an adjacency matrix use your answers to the previous excercises to build an implementation of the PageRank algorithm which takes a matrix $M$ and a tolerance $t$ as input. You should make use of your answer to $5.1$ and not the built-in eigenvector function in Sage. A test case will be given that will make the eigenvector method impractical.\n",
    "\n",
    "</div>"
   ]
  },
  {
   "cell_type": "code",
   "execution_count": null,
   "metadata": {},
   "outputs": [],
   "source": [
    "def PageRank(M, t):\n",
    "    '''This function implements the PageRank algorithm for a matrix M and a tolerance t'''\n",
    "    #your code goes here\n",
    "    raise NotImplementedError"
   ]
  },
  {
   "cell_type": "code",
   "execution_count": null,
   "metadata": {},
   "outputs": [],
   "source": [
    "assert()\n",
    "assert()\n",
    "assert()\n",
    "assert()\n",
    "print(\"Success! Your function works for the given test input.\")"
   ]
  },
  {
   "cell_type": "markdown",
   "metadata": {},
   "source": [
    "We now return briefly to explaining the damping factor $d$ in a bit more detail because currently it is very arbitrary. This factor represents the probability that a web surfer will continue clicking on links rather than jumping to a random page. Common values for the damping factor are around 0.85. Values around $0.85$ are ideal because the factor $d$ ends up having a lot of impact, both on the accuracy of our method and the speed. The higher $d$ is, the more accurate our method will be. You can think of it as weighting the actual matrix of connections more heavily, rather than our teleportation matrix which isn't based on the underlying structure.\n",
    "\n",
    "The obvious next question, is why don't we choose a larger $d$ to be even more accurate? It turns out that the bigger $d$ is, the slower our algorithm becomes. You can see this if you vary $d$ between $0$ and $1$, using the given function in the code cell below and the built-in timeit function. For these relatively small cases, the differences won't be too large, but you can imagine how it would scale up to 30 billion web pages."
   ]
  },
  {
   "cell_type": "code",
   "execution_count": null,
   "metadata": {},
   "outputs": [],
   "source": [
    "#Once I write the solution for 5.2 and the tests I can add this pretty easily"
   ]
  },
  {
   "cell_type": "markdown",
   "metadata": {},
   "source": []
  },
  {
   "cell_type": "markdown",
   "metadata": {},
   "source": [
    "Construct the Web Graph: The first step is to construct a graph representing the web pages on the internet and the links between them. Each web page is represented as a node in the graph, and a directed edge between two nodes represents a link from one page to another. This is our adjacency matrix.\n",
    "\n",
    "Initialise PageRank Values: Assign an initial PageRank value to each node in the graph. This value represents the importance or popularity of the web page. Initially, all pages may be assigned the same value, or some heuristic may be used to assign initial values.\n",
    "\n",
    "Iterative Calculation of PageRank: PageRank is calculated iteratively based on the principle of \"voting.\" In each iteration, the PageRank value of each page is updated based on the PageRank values of the pages linking to it. A page with many incoming links from high-quality pages will have a higher PageRank value.\n",
    "\n",
    "Damping Factor: To prevent issues such as infinite loops and to model the behavior of web surfers who may randomly jump from page to page, a damping factor (we denote as $d$ ) is introduced. \n",
    "\n",
    "Calculate PageRank Equation: The PageRank of a page $P_i$ in the $k+1^{th}$ iteration is calculated using the formula:\n",
    "\n",
    "\n",
    "\n",
    "\n",
    "\n",
    "\n",
    "Convergence: The iterative calculation continues until the PageRank values converge to stable values. Typically, a convergence criterion is used, such as a maximum number of iterations or a threshold for the change in PageRank values between iterations.\n",
    "\n",
    "Ranking Pages: Once the PageRank values have converged, the pages are ranked based on their final PageRank values. Pages with higher PageRank values are considered more important or relevant and are ranked higher in search engine results."
   ]
  },
  {
   "cell_type": "code",
   "execution_count": 1,
   "metadata": {
    "ExecuteTime": {
     "end_time": "2024-04-04T15:22:09.683717Z",
     "start_time": "2024-04-04T15:22:09.659761Z"
    }
   },
   "outputs": [],
   "source": [
    "from random import choices\n",
    "from random import randint\n",
    "def generate_d_graph(n):\n",
    "    if n > 26:\n",
    "        raise ValueError(\"n must be less than or equal to 26\")\n",
    "    graph = []\n",
    "    nodes = [chr(65+i) for i in range(n)]\n",
    "    for node in nodes:\n",
    "        nodes_copy = nodes.copy()\n",
    "        nodes_copy.remove(node)\n",
    "        graph += [(node, i) for i in choices(nodes_copy, k=randint(0, 1))]\n",
    "    connected_nodes = [i[0] for i in graph] + [i[1] for i in graph]\n",
    "    unconnected_nodes = [i for i in nodes if i not in connected_nodes]\n",
    "    \n",
    "    for node in unconnected_nodes:\n",
    "        nodes_copy = nodes.copy()\n",
    "        nodes_copy.remove(node)\n",
    "        graph += [(node, i) for i in choices(nodes_copy, k=randint(1,4))]\n",
    "    \n",
    "    return list(dict.fromkeys(graph))"
   ]
  },
  {
   "cell_type": "code",
   "execution_count": null,
   "metadata": {},
   "outputs": [],
   "source": [
    "def markov_sol(M):\n",
    "    for i in range(len(M.rows())):\n",
    "        if(sum(column(M, i) != 0):\n",
    "           return False\n",
    "    return True"
   ]
  },
  {
   "cell_type": "code",
   "execution_count": null,
   "metadata": {},
   "outputs": [],
   "source": [
    "def adjacency_sol(edges, nodes):\n",
    "    number = dict(zip(nodes, range(len(nodes))))\n",
    "    matrix_list = [[0 for i in range(len(nodes))] for j in range(len(nodes))]\n",
    "    for edge in edges:\n",
    "        matrix_list[number[edge[1]]][number[edge[0]]] = 1\n",
    "    return matrix(matrix_list)"
   ]
  },
  {
   "cell_type": "code",
   "execution_count": 1,
   "metadata": {},
   "outputs": [],
   "source": [
    "def in_out_sol(edges, g):\n",
    "    return (sum([1 if edge[1] == g else 0 for edge in edges]), sum([1 if edge[0] == g else 0 for edge in edges]))"
   ]
  },
  {
   "cell_type": "code",
   "execution_count": null,
   "metadata": {},
   "outputs": [],
   "source": [
    "from random import randint\n",
    "def generate_markov(n):\n",
    "    matrix_list = [[randint(1, 10) for i in range(n)] for j in range(n)]\n",
    "    for i in range(n):\n",
    "        t = sum(column(matrix_list, i))\n",
    "        for j in range(n):\n",
    "            matrix_list[j][i] = matrix_list[j][i]/t\n",
    "    return matrix(QQ, matrix_list)"
   ]
  },
  {
   "cell_type": "code",
   "execution_count": null,
   "metadata": {},
   "outputs": [],
   "source": [
    "import matplotlib.pyplot as plt\n",
    "import numpy as np\n",
    "\n",
    "def show_graph(graph):\n",
    "    nodes = sorted(set([i[0] for i in graph] + [i[1] for i in graph]))\n",
    "    n = len(nodes)\n",
    "    node_points = {node:(0-(i//int((n)**0.5)), 0-(i%int((n)**0.5))) for i,node in enumerate(nodes)}\n",
    "\n",
    "    fig, ax = plt.subplots(figsize=((n//int((n)**0.5))+4,((n-1)%int((n)**0.5))+4))\n",
    "\n",
    "    for node,xy in node_points.items():\n",
    "        ax.scatter(xy[0], xy[1], s=1000, color=\"red\", zorder=1)\n",
    "        for connected_node in [i[1] for i in graph if node == i[0]]:\n",
    "            c_node_xy = node_points[connected_node]\n",
    "            d_x = (c_node_xy[0]-xy[0])\n",
    "            d_y = (c_node_xy[1]-xy[1])\n",
    "            sign = 1\n",
    "            if d_x == 0 and abs(d_y)>1:\n",
    "                if xy[0] == 0 or xy[0]==(n-1):\n",
    "                    sign = -1\n",
    "                y_vals = np.linspace(xy[1], c_node_xy[1], 100)\n",
    "                x_func = lambda y : sign*(0.3)*(y-c_node_xy[1])*(y-xy[1]) + xy[0]\n",
    "                ax.plot(x_func(y_vals), y_vals, zorder=0, color=\"black\")\n",
    "                ax.arrow(x_func(y_vals[50]), y_vals[50], 0.01*d_x, 0.01*d_y, zorder=0, color=\"black\", head_width=0.05)\n",
    "            elif d_y == 0 and abs(d_x)>1:\n",
    "                if xy[1] == 0 or xy[1]==(n-1):\n",
    "                    sign = -1\n",
    "                x_vals = np.linspace(xy[0], c_node_xy[0], 100)\n",
    "                y_func = lambda x : sign*(0.3)*(x-c_node_xy[0])*(x-xy[0]) + xy[1]\n",
    "                ax.plot(x_vals, y_func(x_vals), zorder=0, color=\"black\")\n",
    "                ax.arrow(x_vals[50], y_func(x_vals[50]), 0.01*d_x, 0.01*d_y, zorder=0, color=\"black\", head_width=0.05)\n",
    "            else:\n",
    "                ax.plot([xy[0], c_node_xy[0]], [xy[1], c_node_xy[1]], zorder=0, color=\"black\")\n",
    "                ax.arrow(xy[0], xy[1], d_x*0.7, d_y*0.7, zorder=0, color=\"black\", head_width=0.05)\n",
    "        ax.annotate(node, xy, ha='center', va='center', weight='bold', color=\"white\", fontsize=20)\n",
    "\n",
    "    ax.axis('off')\n",
    "\n",
    "    plt.show()\n",
    "\n",
    "show_graph(generate_d_graph(5))"
   ]
  },
  {
   "cell_type": "code",
   "execution_count": 2,
   "metadata": {
    "ExecuteTime": {
     "end_time": "2024-04-04T15:22:27.043203Z",
     "start_time": "2024-04-04T15:22:25.591042Z"
    },
    "collapsed": false
   },
   "outputs": [
    {
     "name": "stdout",
     "output_type": "stream",
     "text": [
      "(2, 1)\n"
     ]
    },
    {
     "data": {
      "image/png": "[encoded data removed]",
      "text/plain": [
       "<Figure size 600x400 with 1 Axes>"
      ]
     },
     "metadata": {},
     "output_type": "display_data"
    }
   ],
   "source": [
    "def weighting_calc_simple_sol(edges, nodes):\n",
    "    number = dict(zip(nodes, range(len(nodes))))\n",
    "    matrix_list = [[0 for i in range(len(nodes))] for j in range(len(nodes))]\n",
    "    for edge in edges:\n",
    "        t = count_in_out_edges(edges, edge[0])[1]\n",
    "        matrix_list[number[edge[1]]][number[edge[0]]] = Rational(1/t)\n",
    "    return matrix(matrix_list)"
   ]
  },
  {
   "cell_type": "code",
   "execution_count": null,
   "metadata": {},
   "outputs": [],
   "source": [
    "def weighting_calc_simple_sol_2(edges, nodes):\n",
    "    number = dict(zip(nodes, range(len(nodes))))\n",
    "    matrix_list = [[0 for i in range(len(nodes))] for j in range(len(nodes))]\n",
    "    for edge in edges:\n",
    "        t = count_in_out_edges(edges, edge[0])[1]\n",
    "        matrix_list[number[edge[1]]][number[edge[0]]] = Rational(1/t)\n",
    "    for i in range(len(nodes)):\n",
    "        if sum(column(matrix_list, i)) == 0:\n",
    "            for j in range(len(nodes)):\n",
    "                matrix_list[j][i] = 1/(len(nodes))\n",
    "    return matrix(matrix_list)\n",
    "\n",
    "def column(matrix, i):\n",
    "    return [row[i] for row in matrix]"
   ]
  },
  {
   "cell_type": "code",
   "execution_count": null,
   "metadata": {
    "collapsed": false
   },
   "outputs": [],
   "source": []
  }
 ],
 "metadata": {
  "kernelspec": {
   "display_name": "Python 3",
   "language": "python",
   "name": "python3"
  },
  "language_info": {
   "codemirror_mode": {
    "name": "ipython",
    "version": 3
   },
   "file_extension": ".py",
   "mimetype": "text/x-python",
   "name": "python",
   "nbconvert_exporter": "python",
   "pygments_lexer": "ipython3",
   "version": "3.11.2"
  },
  "orig_nbformat": 4
 },
 "nbformat": 4,
 "nbformat_minor": 2
}
