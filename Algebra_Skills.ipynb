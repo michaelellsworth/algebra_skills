{
 "cells": [
  {
   "cell_type": "markdown",
   "metadata": {},
   "source": [
    "# Adjacency Matrices and the Page-Rank algorithm"
   ]
  },
  {
   "cell_type": "markdown",
   "metadata": {},
   "source": [
    "This lab explores the Google Page-Rank Algorithm and it's relation to adjacency matrices. "
   ]
  },
  {
   "cell_type": "markdown",
   "metadata": {},
   "source": [
    "## 1. Graphs and Matrices"
   ]
  },
  {
   "cell_type": "markdown",
   "metadata": {},
   "source": [
    "Below we see a graph, we came across these in FPM, and now they return! This time, we assign directions to our edges, and so this becomes a $\\textit{directed}$ graph. We say that the edge $\\textit{enters}$ Node A and $\\textit{leaves}$ Node B. For simplicity, all graphs in this notebook will have no edges which enter and leave the same node, and no two edges enter and leave the same nodes."
   ]
  },
  {
   "attachments": {
    "image.png": {
     "image/png": "[encoded data removed]"
    }
   },
   "cell_type": "markdown",
   "metadata": {},
   "source": [
    "![image.png](attachment:image.png)"
   ]
  },
  {
   "cell_type": "markdown",
   "metadata": {},
   "source": [
    "We can write the graph above as a list of tuples representing its edges with the first elemeent beign the node the edge is leaving and the second beign the one it's entering. For ecample the edge from $B$ to $A$ in the graph above would be written $(B, A)$. This list of tuples and the list of nodes in a graph are enough to encode all the information of an unweighted graph."
   ]
  },
  {
   "cell_type": "markdown",
   "metadata": {},
   "source": [
    "<div style=\"width: 95%; padding:10pt; color:#6c8dbd; background-color:#c5e0e6; border-radius: 6pt\">\n",
    "    <h3 style=\"color:#6c8dbd\">Exercise 1.1</h3><span style=\"color:#fafbfc;background-color: #c93f3a; border-radius: 3pt\">(assessed 1pts)</span>\n",
    "    \n",
    "Write a function that takes a list of directed edges represented by pairs (a, b) and a node N and counts the number of nodes with an edge entering n and the number with an edge leaving n. Return this as a tuple.\n",
    "\n",
    "</div>"
   ]
  },
  {
   "cell_type": "code",
   "execution_count": null,
   "metadata": {},
   "outputs": [],
   "source": [
    "def count_in_out_edges(edges, N):\n",
    "    '''This function should take a list \"edges\" of pairs (a,b) of nodes indicating a directed edge from node a to node b, a specific node N \n",
    "    and return a tuple of the number of edges going into and out of N'''\n",
    "    #your code goes here\n",
    "    raise NotImplementedError"
   ]
  },
  {
   "cell_type": "code",
   "execution_count": 43,
   "metadata": {},
   "outputs": [
    {
     "name": "stdout",
     "output_type": "stream",
     "text": [
      "[]\n",
      "[]\n"
     ]
    },
    {
     "ename": "NameError",
     "evalue": "name 'count_in_out_edges' is not defined",
     "output_type": "error",
     "traceback": [
      "\u001b[1;31m---------------------------------------------------------------------------\u001b[0m",
      "\u001b[1;31mNameError\u001b[0m                                 Traceback (most recent call last)",
      "Cell \u001b[1;32mIn [43], line 4\u001b[0m\n\u001b[0;32m      2\u001b[0m g1 \u001b[38;5;241m=\u001b[39m generate_d_graph(\u001b[38;5;241m3\u001b[39m)\n\u001b[0;32m      3\u001b[0m g2 \u001b[38;5;241m=\u001b[39m generate_d_graph(\u001b[38;5;241m2\u001b[39m)\n\u001b[1;32m----> 4\u001b[0m \u001b[38;5;28;01massert\u001b[39;00m(\u001b[43mcount_in_out_edges\u001b[49m(g1) \u001b[38;5;241m==\u001b[39m in_out_sol(g1))\n\u001b[0;32m      5\u001b[0m \u001b[38;5;28;01massert\u001b[39;00m(count_in_out_edges(g2) \u001b[38;5;241m==\u001b[39m in_out_sol(g2))\n\u001b[0;32m      6\u001b[0m \u001b[38;5;66;03m#bigger test cases\u001b[39;00m\n",
      "\u001b[1;31mNameError\u001b[0m: name 'count_in_out_edges' is not defined"
     ]
    }
   ],
   "source": [
    "#small example cases for debugging\n",
    "g1 = generate_d_graph(3)\n",
    "g2 = generate_d_graph(2)\n",
    "assert(count_in_out_edges(g1) == in_out_sol(g1))\n",
    "assert(count_in_out_edges(g2) == in_out_sol(g2))\n",
    "#bigger test cases\n",
    "h1 = generate_d_graph(15)\n",
    "h2 = generate_d_graph(20)\n",
    "assert(count_in_out_edges(h1) == in_out_sol(h1))\n",
    "assert(count_in_out_edges(h2) == in_out_sol(h2))\n",
    "print(\"Success! Your function works for the given input.\")"
   ]
  },
  {
   "cell_type": "markdown",
   "metadata": {},
   "source": [
    "We can alternatively display the relationships between nodes using a matrix $M$, so when an edge leaves node A and enters node B, we have a 1 in the position $M_{BA}$, NOT in $M_{AB}$. The matrix will be a square $n \\times n$ matrix where $n$ is the number of nodes in the graph. When two nodes C and D are not connected, we have a 0 in $M_{CD}$ and $M_{DC}$. This is the adjacency matrix of a directed graph. We can directly construct the adjacency matrix from the list of tuples we used previously."
   ]
  },
  {
   "cell_type": "markdown",
   "metadata": {},
   "source": [
    "<div style=\"width: 95%; padding:10pt; color:#6c8dbd; background-color:#c5e0e6; border-radius: 6pt\">\n",
    "    <h3 style=\"color:#6c8dbd;\">Exercise 1.2</h3><span style=\"color:#fafbfc; background-color: #c93f3a; border-radius: 3pt\">(assessed 2pts)</span>\n",
    "    \n",
    "Write a function that takes a list of directed edges represented by pairs (a, b) and returns the matrix associated with that graph.\n",
    "\n",
    "</div>"
   ]
  },
  {
   "cell_type": "code",
   "execution_count": null,
   "metadata": {},
   "outputs": [],
   "source": [
    "def adjacency_Matrix(edges, n):\n",
    "    '''This function should take a list \"edges\" of pairs (a,b) of nodes indicating a directed edge from node a to node b, the number of nodes n\n",
    "     and return the adjacency matrix associated with the graph'''\n",
    "    #your code goes here\n",
    "    raise NotImplementedError"
   ]
  },
  {
   "cell_type": "code",
   "execution_count": 6,
   "metadata": {},
   "outputs": [
    {
     "name": "stdout",
     "output_type": "stream",
     "text": [
      "['B']\n"
     ]
    },
    {
     "ename": "ValueError",
     "evalue": "Sample larger than population or is negative",
     "output_type": "error",
     "traceback": [
      "\u001b[1;31m---------------------------------------------------------------------------\u001b[0m",
      "\u001b[1;31mValueError\u001b[0m                                Traceback (most recent call last)",
      "Cell \u001b[1;32mIn [6], line 2\u001b[0m\n\u001b[0;32m      1\u001b[0m \u001b[38;5;66;03m#simple cases with 5 or less vertices\u001b[39;00m\n\u001b[1;32m----> 2\u001b[0m g1 \u001b[38;5;241m=\u001b[39m \u001b[43mgenerate_d_graph\u001b[49m\u001b[43m(\u001b[49m\u001b[38;5;241;43m3\u001b[39;49m\u001b[43m)\u001b[49m\n\u001b[0;32m      3\u001b[0m g2 \u001b[38;5;241m=\u001b[39m generate_d_graph(\u001b[38;5;241m2\u001b[39m)\n\u001b[0;32m      4\u001b[0m \u001b[38;5;28;01massert\u001b[39;00m(adjacency_Matrix(g1, \u001b[38;5;241m3\u001b[39m)\u001b[38;5;241m.\u001b[39mequals(adjacency_sol(g1, \u001b[38;5;241m3\u001b[39m)))\n",
      "Cell \u001b[1;32mIn [4], line 20\u001b[0m, in \u001b[0;36mgenerate_d_graph\u001b[1;34m(n)\u001b[0m\n\u001b[0;32m     18\u001b[0m     nodes_copy \u001b[38;5;241m=\u001b[39m nodes\u001b[38;5;241m.\u001b[39mcopy()\n\u001b[0;32m     19\u001b[0m     nodes_copy\u001b[38;5;241m.\u001b[39mremove(node)\n\u001b[1;32m---> 20\u001b[0m     graph \u001b[38;5;241m+\u001b[39m\u001b[38;5;241m=\u001b[39m [(node, i) \u001b[38;5;28;01mfor\u001b[39;00m i \u001b[38;5;129;01min\u001b[39;00m \u001b[43msample\u001b[49m\u001b[43m(\u001b[49m\u001b[43mnodes_copy\u001b[49m\u001b[43m,\u001b[49m\u001b[43m \u001b[49m\u001b[43mrandint\u001b[49m\u001b[43m(\u001b[49m\u001b[38;5;241;43m1\u001b[39;49m\u001b[43m,\u001b[49m\u001b[38;5;241;43m4\u001b[39;49m\u001b[43m)\u001b[49m\u001b[43m)\u001b[49m]\n\u001b[0;32m     22\u001b[0m \u001b[38;5;28;01mreturn\u001b[39;00m graph\n",
      "File \u001b[1;32mC:\\Program Files\\WindowsApps\\PythonSoftwareFoundation.Python.3.10_3.10.3056.0_x64__qbz5n2kfra8p0\\lib\\random.py:482\u001b[0m, in \u001b[0;36mRandom.sample\u001b[1;34m(self, population, k, counts)\u001b[0m\n\u001b[0;32m    480\u001b[0m randbelow \u001b[38;5;241m=\u001b[39m \u001b[38;5;28mself\u001b[39m\u001b[38;5;241m.\u001b[39m_randbelow\n\u001b[0;32m    481\u001b[0m \u001b[38;5;28;01mif\u001b[39;00m \u001b[38;5;129;01mnot\u001b[39;00m \u001b[38;5;241m0\u001b[39m \u001b[38;5;241m<\u001b[39m\u001b[38;5;241m=\u001b[39m k \u001b[38;5;241m<\u001b[39m\u001b[38;5;241m=\u001b[39m n:\n\u001b[1;32m--> 482\u001b[0m     \u001b[38;5;28;01mraise\u001b[39;00m \u001b[38;5;167;01mValueError\u001b[39;00m(\u001b[38;5;124m\"\u001b[39m\u001b[38;5;124mSample larger than population or is negative\u001b[39m\u001b[38;5;124m\"\u001b[39m)\n\u001b[0;32m    483\u001b[0m result \u001b[38;5;241m=\u001b[39m [\u001b[38;5;28;01mNone\u001b[39;00m] \u001b[38;5;241m*\u001b[39m k\n\u001b[0;32m    484\u001b[0m setsize \u001b[38;5;241m=\u001b[39m \u001b[38;5;241m21\u001b[39m        \u001b[38;5;66;03m# size of a small set minus size of an empty list\u001b[39;00m\n",
      "\u001b[1;31mValueError\u001b[0m: Sample larger than population or is negative"
     ]
    }
   ],
   "source": [
    "#simple cases with 5 or less vertices\n",
    "g1 = generate_d_graph(3)\n",
    "g2 = generate_d_graph(2)\n",
    "assert(adjacency_Matrix(g1, 3).equals(adjacency_sol(g1, 3)))\n",
    "assert(adjacency_Matrix(g2, 3).equals(adjacency_sol(g2, 3)))\n",
    "#larger test cases\n",
    "h1 = generate_d_graph(15)\n",
    "h2 = generate_d_graph(20)\n",
    "assert(adjacency_Matrix(h1, 3).equals(adjacency_sol(h1, 3)))\n",
    "assert(adjacency_Matrix(h2, 3).equals(adjacency_sol(h2, 3)))\n",
    "print(\"Success! Your function works for the given input.\")"
   ]
  },
  {
   "cell_type": "markdown",
   "metadata": {},
   "source": [
    "## 2. Adding Weighting"
   ]
  },
  {
   "cell_type": "markdown",
   "metadata": {},
   "source": [
    "When we add weight to a graph we add a value to each edge. This can represent many things including imposing a 'cost' on traversing that edge in a road network or the likelihood of randomly choosing an edge when leacing a node. As our graphs are directed, we can only traverse edges in one direction, and this doesn't change when we add weights. The adjacency matric of a weighted graph replaces every $1$ in the unweighted version with the weight of the corresponding edge. We will be exploring Google's Page Rank algorithm (Named after both Larry Page and web pages) which ranks the 'importance' of different webpages. From now on web pages will be our nodes and links between those webpages will be our edges. The weights will be what we use to calculate this importance.\n",
    "\n",
    "A link from page $A$ to page $B$ can be thought of as a reccomendation from page $A$ to page $B$. We want to value reccomendations from pages which make very few reccomendations so if $A$ makes $t$ total reccomendations then we want every reccomendation from $A$ to have a weight of $\\frac{1}{t}$. This means the adjacency matrix will now be:\n",
    "\\begin{equation*} \n",
    "m_{i, j} =\n",
    "\\begin{cases}\n",
    "0 & \\text{no link from $j$ to $i$} \\\\\n",
    "\\frac{1}{t_j} & \\text{otherwise}\n",
    "\\end{cases}\n",
    "\\end{equation*}\n",
    "Where $t_{j}$ is the total number of links exiting $j$. We can also think of these reccomendations probabalitically as a crude estimation of how likely we are to go from page $A$ to page $B$ by randomly selecting one of the links to follow. This will become key."
   ]
  },
  {
   "cell_type": "markdown",
   "metadata": {},
   "source": [
    "<div style=\"width: 95%; padding:10pt; color:#6c8dbd; background-color:#c5e0e6; border-radius: 6pt\">\n",
    "    <h3 style=\"color:#6c8dbd;\">Exercise 2.1</h3><span style=\"color:#fafbfc; background-color: #c93f3a; border-radius: 3pt\">(assessed 2pts)</span>\n",
    "    \n",
    "Write a function that takes a list of directed edges represented by pairs (a, b) and returns the weighted adjacency matrix as we've defined it for the importance of web connections. (Hint: You might save time on a solution by making use of 1.1 and 1.2)\n",
    "\n",
    "</div>"
   ]
  },
  {
   "cell_type": "code",
   "execution_count": null,
   "metadata": {},
   "outputs": [],
   "source": [
    "def weighting_calc_simple(edges, n):\n",
    "    '''This function should take a list \"edges\" of pairs (a,b) of nodes indicating a directed edge from node a to node b, the number of nodes n\n",
    "     and return a list of pairs (a,c) with c being the importance of the node'''\n",
    "    #your code goes here\n",
    "    raise NotImplementedError"
   ]
  },
  {
   "cell_type": "markdown",
   "metadata": {},
   "source": [
    "We can immedeately improve this weighting system. Note all reccomendations are created equal. We want to prioritize reccomendations (links) from important web pages. At first this seems difficult since we now need importance to calculate importance but we can get around with this with some linear algebra. If we take out simple weighting from before and call that adjacency matrix $M$. The importance of all the nodes can be written as a vector $v$ with $v_i$ corresponding to the importance of node $i$. We want to multiply each entry in $M$ by these values in other words $Mv$ which will be the importance vector we're looking for. Written in linear algebra:\n",
    "\\begin{equation*}\n",
    "v = Mv.\n",
    "\\end{equation*}\n",
    "This means our importance vector should be an eigenvector of the adjacency matrix with eigenvalue $1$. Ideally we want this to be unique up to scaling since this will give us a single well defined ordering but adressing this will take a little more work."
   ]
  },
  {
   "attachments": {
    "image.png": {
     "image/png": "[encoded data removed]"
    }
   },
   "cell_type": "markdown",
   "metadata": {},
   "source": [
    "![image.png](attachment:image.png)"
   ]
  },
  {
   "cell_type": "markdown",
   "metadata": {},
   "source": [
    "<div style=\"width: 95%; padding:10pt; color:#6c8dbd; background-color:#c5e0e6; border-radius: 6pt\">\n",
    "    <h3 style=\"color:#6c8dbd;\">Exercise 2.2</h3><span style=\"color:#fafbfc; background-color: #c93f3a; border-radius: 3pt\">(assessed 2pts)</span>\n",
    "    \n",
    "Modify your function above to take in the same list of directed edges represented by pairs $(a,b)$ but to output a list of pairs $(a,c)$ where $a$ is the node and $c$ is the adjusted weighting, which is given by the amount of nodes go into it divided by how many nodes it goes into.\n",
    "\n",
    "</div>"
   ]
  },
  {
   "cell_type": "code",
   "execution_count": null,
   "metadata": {},
   "outputs": [],
   "source": [
    "def weighting_calc_adjusted(edges, n):\n",
    "    '''This function should take a list \"edges\" of pairs (a,b) of nodes indicating a directed edge from node a to node b, the number of nodes n\n",
    "     and return a list of pairs (a,c) with c being our newly defined weighting of the node'''\n",
    "    #your code goes here\n",
    "    raise NotImplementedError"
   ]
  },
  {
   "cell_type": "markdown",
   "metadata": {},
   "source": [
    "## 3. Markov Matrices"
   ]
  },
  {
   "cell_type": "markdown",
   "metadata": {},
   "source": [
    "Markov matrices play a crucial role in various fields, including probability theory and dynamic systems. In this section, we will examine the properties of Markov matrices and develop a function to validate whether a given matrix conforms to the Markov property. Understanding Markov matrices is essential for analysing processes with probabilistic transitions."
   ]
  },
  {
   "cell_type": "markdown",
   "metadata": {},
   "source": [
    "Recall that a Markov matrix has non-negative entries and that the sum of entries of each column equal to 1. This tells us something very important about Markov matrices' eigenvalues. Recall the proof of Lemma 4.7.6 from your notes: a Markov matrix always has $\\lambda = 1$ as an eigenvalue. Do you think you can come up with a function that tests for this?"
   ]
  },
  {
   "cell_type": "markdown",
   "metadata": {},
   "source": [
    "<div style=\"width: 95%; padding:10pt; color:#6c8dbd; background-color:#c5e0e6; border-radius: 6pt\">\n",
    "    <h3 style=\"color:#6c8dbd;\">Exercise 3.1</h3><span style=\"color:#fafbfc; background-color: #c93f3a; border-radius: 3pt\">(assessed 1pts)</span>\n",
    "    \n",
    "Write a function that takes an $n\\times n$ matrix and returns whether or not that matrix is a valid Markov matrix.\n",
    "\n",
    "</div>"
   ]
  },
  {
   "cell_type": "code",
   "execution_count": null,
   "metadata": {},
   "outputs": [],
   "source": [
    "def validate_Markov(M):\n",
    "    '''This function takes in a matrix M and returns whether or not it is a Markov Matrix'''\n",
    "    #your code goes here\n",
    "    raise NotImplementedError"
   ]
  },
  {
   "cell_type": "code",
   "execution_count": null,
   "metadata": {},
   "outputs": [],
   "source": [
    "#small matrices for easy test cases\n",
    "assert(validate_Markov(generate_markov(4)))\n",
    "assert(validate_Markov(generate_markov(4) + 0.2*adjacency_sol(generate_d_graph(4))))\n",
    "#big bad test cases\n",
    "assert(validate_Markov(generate_markov(25)))\n",
    "assert(validate_Markov(generate_markov(25)) + 0.03*adjacency_sol(generate_d_graph(25)))\n",
    "print(\"Success! Your function works for the given test input.\")"
   ]
  },
  {
   "cell_type": "markdown",
   "metadata": {},
   "source": [
    "<div style=\"width: 95%; padding:10pt; color:#6c8dbd; background-color:#c5e0e6; border-radius: 6pt\">\n",
    "    <h3 style=\"color:#6c8dbd;\">Exercise 3.2</h3><span style=\"color:#fafbfc; background-color: #c93f3a; border-radius: 3pt\">(assessed 1pts)</span>\n",
    "    \n",
    "Write a function that returns a Markov matrix for a given adjacency matrix.\n",
    "\n",
    "</div>"
   ]
  },
  {
   "cell_type": "markdown",
   "metadata": {},
   "source": [
    "## 4. Teleportation Matrices"
   ]
  },
  {
   "cell_type": "markdown",
   "metadata": {},
   "source": [
    "If we think about our graphs, with each node as a webpage, and each edge as a link between two webpages, we can encounter some issues while trying to traverse this graph.\n",
    "\n",
    "Dangling nodes occur when we have a node which only has edges entering it, and none leaving, so we cannot physically leave this node once we enter, these are alternatively known as sink nodes.\n",
    "\n",
    "Disconnected components provide a different challenge, if we somehow have a completely independent section of the graph, where all nodes are connected only within this section and no edges leave the group.\n",
    "\n",
    "These would be, in practice, pages which are only referred to and do not reference any other pages themselves, or internet sections which only reference each other and reference no external pages.\n",
    "\n",
    "In order to circumvent these issues, we look to $\\textit{teleportation matrices}$, which represent sometimes jumping to a random node, regardless of it's connections. We calculate this matrix by:\n",
    "\n",
    "$T = (1 - d)\\cdot \\frac{1}{N} \\cdot J$,\n",
    "\n",
    " where N = number of pages and J is a matrix of all ones.\n",
    "\n",
    "\n",
    "In order to construct a teleportation matrix, we must introduce a damping factor $d$, as seen above. This is usually between 0.85-0.95.\n",
    "\n",
    "\n",
    "\n",
    "\n",
    "ex: how to make\n",
    "\n",
    "\n",
    "\n",
    "I am going to finish this don't steal my work please - lucy"
   ]
  },
  {
   "cell_type": "markdown",
   "metadata": {},
   "source": [
    "<div style=\"width: 95%; padding:10pt; color:#6c8dbd; background-color:#c5e0e6; border-radius: 6pt\">\n",
    "    <h3 style=\"color:#6c8dbd;\">Exercise 3.2</h3><span style=\"color:#fafbfc; background-color: #c93f3a; border-radius: 3pt\">(assessed 1pts)</span>\n",
    "    \n",
    "Write a function that returns a teleportation matrix that sends nodes randomly.\n",
    "\n",
    "</div>"
   ]
  },
  {
   "cell_type": "markdown",
   "metadata": {},
   "source": [
    "## 5. PageRank Algorithm\n",
    "\n",
    "section 5: page rank\n",
    "use sage get evec to do page rank\n",
    "ex: get rank of nodes\n",
    "\n",
    "I am going to finish this don't steal my work please - lucy"
   ]
  },
  {
   "cell_type": "code",
   "execution_count": 2,
   "metadata": {},
   "outputs": [],
   "source": [
    "from random import sample\n",
    "from random import randint\n",
    "def generate_d_graph(n):\n",
    "    if n > 26:\n",
    "        raise ValueError(\"n must be less than or equal to 26\")\n",
    "    graph = []\n",
    "    nodes = [chr(65+i) for i in range(n)]\n",
    "    for node in nodes:\n",
    "        nodes_copy = nodes.copy()\n",
    "        nodes_copy.remove(node)\n",
    "        graph += [(node, i) for i in sample(nodes_copy, randint(0,1))]\n",
    "    connected_nodes = [i[0] for i in graph] + [i[1] for i in graph]\n",
    "    unconnected_nodes = [i for i in nodes if i not in connected_nodes]\n",
    "\n",
    "    print(unconnected_nodes)\n",
    "    \n",
    "    for node in unconnected_nodes:\n",
    "        nodes_copy = nodes.copy()\n",
    "        nodes_copy.remove(node)\n",
    "        graph += [(node, i) for i in sample(nodes_copy, randint(1,4))]\n",
    "    \n",
    "    return graph"
   ]
  },
  {
   "cell_type": "code",
   "execution_count": null,
   "metadata": {},
   "outputs": [],
   "source": [
    "def markov_sol(M):\n",
    "    return (([1] * len(M.rows())).equals([sum(row) for row in M]) and all([sum(row) == 1 for row in M.rows()]))"
   ]
  },
  {
   "cell_type": "code",
   "execution_count": null,
   "metadata": {},
   "outputs": [],
   "source": [
    "def adjacency_sol(edges, n):\n",
    "    matrix_list = [[0]*n]\n",
    "    for edge in edges:\n",
    "        matrix_list[edge[1], edge[0]] = 1\n",
    "    return Matrix(matrix_list)"
   ]
  },
  {
   "cell_type": "code",
   "execution_count": 1,
   "metadata": {},
   "outputs": [],
   "source": [
    "def in_out_sol(edges, g):\n",
    "    return (sum([1 if edge[1] == g else 0 for edge in edges]), sum([1 if edge[0] == g else 0 for edge in edges]))"
   ]
  },
  {
   "cell_type": "code",
   "execution_count": null,
   "metadata": {},
   "outputs": [],
   "source": [
    "from random import uniform\n",
    "def generate_Markov(n):\n",
    "    matrix_list = [[uniform(0, 0.1 / n) for i in range(k)] for j in range(n)]\n",
    "    for j, r in enumerate(matrix_list):\n",
    "        r[j] += 1 - sum(r)\n",
    "    return Matrix(matrix_list)"
   ]
  },
  {
   "cell_type": "code",
   "execution_count": 7,
   "metadata": {
    "collapsed": false
   },
   "outputs": [
    {
     "name": "stdout",
     "output_type": "stream",
     "text": [
      "['B', 'E']\n",
      "(2, 1)\n"
     ]
    },
    {
     "data": {
      "image/png": "[encoded data removed]",
      "text/plain": [
       "<Figure size 600x400 with 1 Axes>"
      ]
     },
     "metadata": {},
     "output_type": "display_data"
    }
   ],
   "source": [
    "import matplotlib.pyplot as plt\n",
    "import numpy as np\n",
    "\n",
    "def show_graph(graph):\n",
    "    nodes = sorted(set([i[0] for i in graph] + [i[1] for i in graph]))\n",
    "    n = len(nodes)\n",
    "    node_points = {node:(0-(i//int((n)**0.5)), 0-(i%int((n)**0.5))) for i,node in enumerate(nodes)}\n",
    "\n",
    "    print(((n//int((n)**0.5)),(n%int((n)**0.5))))\n",
    "    fig, ax = plt.subplots(figsize=((n//int((n)**0.5))+4,((n-1)%int((n)**0.5))+4))\n",
    "\n",
    "    for node,xy in node_points.items():\n",
    "        ax.scatter(xy[0], xy[1], s=1000, color=\"red\", zorder=1)\n",
    "        for connected_node in [i[1] for i in graph if node == i[0]]:\n",
    "            c_node_xy = node_points[connected_node]\n",
    "            d_x = (c_node_xy[0]-xy[0])\n",
    "            d_y = (c_node_xy[1]-xy[1])\n",
    "            sign = 1\n",
    "            if d_x == 0 and abs(d_y)>1:\n",
    "                if xy[0] == 0 or xy[0]==(n-1):\n",
    "                    sign = -1\n",
    "                y_vals = np.linspace(xy[1], c_node_xy[1], 100)\n",
    "                x_func = lambda y : sign*(0.3)*(y-c_node_xy[1])*(y-xy[1]) + xy[0]\n",
    "                ax.plot(x_func(y_vals), y_vals, zorder=0, color=\"black\")\n",
    "                ax.arrow(x_func(y_vals[50]), y_vals[50], 0.01*d_x, 0.01*d_y, zorder=0, color=\"black\", head_width=0.05)\n",
    "            elif d_y == 0 and abs(d_x)>1:\n",
    "                if xy[1] == 0 or xy[1]==(n-1):\n",
    "                    sign = -1\n",
    "                x_vals = np.linspace(xy[0], c_node_xy[0], 100)\n",
    "                y_func = lambda x : sign*(0.3)*(x-c_node_xy[0])*(x-xy[0]) + xy[1]\n",
    "                ax.plot(x_vals, y_func(x_vals), zorder=0, color=\"black\")\n",
    "                ax.arrow(x_vals[50], y_func(x_vals[50]), 0.01*d_x, 0.01*d_y, zorder=0, color=\"black\", head_width=0.05)\n",
    "            else:\n",
    "                ax.plot([xy[0], c_node_xy[0]], [xy[1], c_node_xy[1]], zorder=0, color=\"black\")\n",
    "                ax.arrow(xy[0], xy[1], d_x*0.7, d_y*0.7, zorder=0, color=\"black\", head_width=0.05)\n",
    "        ax.annotate(node, xy, ha='center', va='center', weight='bold', color=\"white\", fontsize=20)\n",
    "\n",
    "    ax.axis('off')\n",
    "\n",
    "    plt.show()\n",
    "\n",
    "show_graph(generate_d_graph(5))"
   ]
  }
 ],
 "metadata": {
  "kernelspec": {
   "display_name": "Python 3",
   "language": "python",
   "name": "python3"
  },
  "language_info": {
   "codemirror_mode": {
    "name": "ipython",
    "version": 3
   },
   "file_extension": ".py",
   "mimetype": "text/x-python",
   "name": "python",
   "nbconvert_exporter": "python",
   "pygments_lexer": "ipython3",
   "version": "3.10.11"
  },
  "orig_nbformat": 4
 },
 "nbformat": 4,
 "nbformat_minor": 2
}
