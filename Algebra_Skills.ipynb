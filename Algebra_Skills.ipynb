{
 "cells": [
  {
   "cell_type": "markdown",
   "metadata": {},
   "source": [
    "# Adjacency Matrices and the Page-Rank algorithm"
   ]
  },
  {
   "cell_type": "markdown",
   "metadata": {},
   "source": [
    "This lab explores the Google Page-Rank Algorithm and it's relation to adjacency matrices. "
   ]
  },
  {
   "cell_type": "markdown",
   "metadata": {},
   "source": [
    "## 1. Graphs and Matrices"
   ]
  },
  {
   "cell_type": "markdown",
   "metadata": {},
   "source": [
    "Below we see a graph, we came across these in FPM, and now they return! This time, we assign directions to our edges, and so this becomes a $\\textit{directed}$ graph. We say that the edge $\\textit{enters}$ Node A and $\\textit{leaves}$ Node B. For simplicity, all graphs in this notebook will be simple graphs, i.e. no edge enters and leaves the same node, and no two edges enter and leave the same nodes."
   ]
  },
  {
   "cell_type": "markdown",
   "metadata": {},
   "source": [
    "Above we have a list of tuples, each of which corresponds to a pair of nodes which are connected by an edge. This list corresponds exactly to the above graph, you should check this for yourself! "
   ]
  },
  {
   "cell_type": "markdown",
   "metadata": {},
   "source": [
    "<div style=\"width: 95%; padding:10pt; color:#6c8dbd; background-color:#c5e0e6; border-radius: 6pt\">\n",
    "    <h3 style=\"color:#6c8dbd\">Exercise 1.1</h3><span style=\"color:#fafbfc;background-color: #c93f3a; border-radius: 3pt\">(assessed 89pts)</span>\n",
    "    \n",
    "Write a function that takes a list of directed edges represented by pairs (a, b) and a node N and counts the number of nodes with an edge entering n and the number with an edge leaving n. Return this as a tuple.\n",
    "\n",
    "</div>"
   ]
  },
  {
   "cell_type": "code",
   "execution_count": null,
   "metadata": {},
   "outputs": [],
   "source": [
    "def count_in_out_edges(edges, N):\n",
    "    '''This function should take a list \"edges\" of pairs (a,b) of nodes indicating a directed edge from node a to node b, a specific node N \n",
    "    and return a tuple of the edges going into and out of N'''\n",
    "    #your code goes here\n",
    "    raise NotImplementedError"
   ]
  },
  {
   "cell_type": "code",
   "execution_count": null,
   "metadata": {},
   "outputs": [],
   "source": [
    "#small example cases\n",
    "assert()\n",
    "assert()\n",
    "#bigger test cases\n",
    "assert()\n",
    "assert()\n",
    "print(\"Success! Your function works for the given input.\")"
   ]
  },
  {
   "cell_type": "markdown",
   "metadata": {},
   "source": [
    "We can alternatively display the relationships between nodes using an adjacency matrix, so when an edge leaves node A and enters node B, we have a 1 in the position $M_{BA}$, NOT in $M_{AB}$. When two nodes C and D are not connected, we have a 0 in $M_{CD}$ and $M_{DC}$."
   ]
  },
  {
   "cell_type": "markdown",
   "metadata": {},
   "source": [
    "<div style=\"width: 95%; padding:10pt; color:#6c8dbd; background-color:#c5e0e6; border-radius: 6pt\">\n",
    "    <h3 style=\"color:#6c8dbd;\">Exercise 1.2</h3><span style=\"color:#fafbfc; background-color: #c93f3a; border-radius: 3pt\">(assessed 22pts)</span>\n",
    "    \n",
    "Write a function that takes a list of directed edges represented by pairs (a, b) and returns the adjacency matrix associated with that graph.\n",
    "\n",
    "</div>"
   ]
  },
  {
   "cell_type": "code",
   "execution_count": null,
   "metadata": {},
   "outputs": [],
   "source": [
    "def adjacency_Matrix(edges, n):\n",
    "    '''This function should take a list \"edges\" of pairs (a,b) of nodes indicating a directed edge from node a to node b, the number of nodes n\n",
    "     and return the adjacency matrix associated with the graph'''\n",
    "    #your code goes here\n",
    "    raise NotImplementedError"
   ]
  },
  {
   "cell_type": "code",
   "execution_count": null,
   "metadata": {},
   "outputs": [],
   "source": [
    "#simple cases with 5 or less vertices\n",
    "assert(M1.equals(Ms))\n",
    "assert()\n",
    "#larger test cases\n",
    "assert()\n",
    "assert()\n",
    "print(\"Success! Your function works for the given input.\")"
   ]
  },
  {
   "cell_type": "markdown",
   "metadata": {},
   "source": [
    "## 2. Adding Weighting"
   ]
  },
  {
   "cell_type": "markdown",
   "metadata": {},
   "source": [
    "When we add weight to a graph, this can think of this as though we're adding tolls on each edge, and consequently imposing a 'cost' on traversing that edge. As our graphs are directed, we can only traverse edges in one direction, and this doesn't change when we add weights."
   ]
  },
  {
   "cell_type": "markdown",
   "metadata": {},
   "source": [
    "### Exercise: - Ordering the vertices "
   ]
  },
  {
   "cell_type": "markdown",
   "metadata": {},
   "source": [
    "### Exercise: - - Accounting for weighting calculation"
   ]
  },
  {
   "cell_type": "code",
   "execution_count": null,
   "metadata": {},
   "outputs": [],
   "source": []
  },
  {
   "cell_type": "markdown",
   "metadata": {},
   "source": [
    "## 3. Markov Matrices"
   ]
  },
  {
   "cell_type": "code",
   "execution_count": null,
   "metadata": {},
   "outputs": [],
   "source": []
  },
  {
   "cell_type": "code",
   "execution_count": null,
   "metadata": {},
   "outputs": [],
   "source": [
    "\n"
   ]
  },
  {
   "cell_type": "markdown",
   "metadata": {},
   "source": [
    "<div style=\"width: 95%; padding:10pt; color:#6c8dbd; background-color:#c5e0e6; border-radius: 6pt\">\n",
    "    <h3 style=\"color:#6c8dbd;\">Exercise 3.1</h3><span style=\"color:#fafbfc; background-color: #c93f3a; border-radius: 3pt\">(assessed 42pts)</span>\n",
    "    \n",
    "Write a function that takes an nxn matrix and returns whether or not that matrix is a valid Markov Matrix.\n",
    "\n",
    "</div>"
   ]
  },
  {
   "cell_type": "code",
   "execution_count": null,
   "metadata": {},
   "outputs": [],
   "source": [
    "def validate_Markov(M):\n",
    "    '''This function takes in a matrix M and returns whether or not it is a Markov Matrix'''\n",
    "    #your code goes here\n",
    "    raise NotImplementedError"
   ]
  },
  {
   "cell_type": "code",
   "execution_count": null,
   "metadata": {},
   "outputs": [],
   "source": [
    "#small matrices for easy test cases\n",
    "assert()\n",
    "assert()\n",
    "#big bad test cases\n",
    "assert()\n",
    "assert()\n",
    "print(\"Success! Your function works for the given input.\")"
   ]
  },
  {
   "cell_type": "markdown",
   "metadata": {},
   "source": [
    "## 4. Adjacency Matrices"
   ]
  },
  {
   "cell_type": "code",
   "execution_count": null,
   "metadata": {},
   "outputs": [],
   "source": [
    "def generate_d_graph(n):\n",
    "    if n > 26:\n",
    "        raise ValueError(\"n must be less than or equal to 26\")\n",
    "    graph = []\n",
    "    nodes = [chr(65+i) for i in range(n)]\n",
    "    for node in nodes:\n",
    "        nodes_copy = nodes.copy()\n",
    "        nodes_copy.remove(node)\n",
    "        graph += [(node, i) for i in sample(nodes_copy, randint(0,1))]\n",
    "    connected_nodes = [i[0] for i in graph] + [i[1] for i in graph]\n",
    "    unconnected_nodes = [i for i in nodes if i not in connected_nodes]\n",
    "\n",
    "    print(unconnected_nodes)\n",
    "    \n",
    "    for node in unconnected_nodes:\n",
    "        nodes_copy = nodes.copy()\n",
    "        nodes_copy.remove(node)\n",
    "        graph += [(node, i) for i in sample(nodes_copy, randint(1,4))]\n",
    "    \n",
    "    return graph"
   ]
  },
  {
   "cell_type": "code",
   "execution_count": null,
   "metadata": {},
   "outputs": [],
   "source": [
    "def markov_sol(M):\n",
    "    return ([1] * len(M.rows())).equals([sum(row) for row in M])"
   ]
  },
  {
   "cell_type": "code",
   "execution_count": null,
   "metadata": {},
   "outputs": [],
   "source": [
    "def adjacency_sol(edges, n):\n",
    "    matrix_list = [[0]*n]\n",
    "    for edge in edges:\n",
    "        matrix_list[edge[1], edge[0]] = 1\n",
    "    return Matrix(matrix_list)"
   ]
  },
  {
   "cell_type": "code",
   "execution_count": null,
   "metadata": {},
   "outputs": [],
   "source": [
    "def in_out_sol(edges, g):\n",
    "    return (sum([1 if edge[1] == g else 0 for edge in edges]), sum([1 if edge[0] == g else 0 for edge in edges]))"
   ]
  },
  {
   "cell_type": "code",
   "outputs": [],
   "source": [
    "import matplotlib.pyplot as plt\n",
    "import numpy as np\n",
    "\n",
    "def show_graph(graph):\n",
    "    nodes = sorted(set([i[0] for i in graph] + [i[1] for i in graph]))\n",
    "    n = len(nodes)\n",
    "    node_points = {node:(0-(i//int((n)**0.5)), 0-(i%int((n)**0.5))) for i,node in enumerate(nodes)}\n",
    "\n",
    "    print(((n//int((n)**0.5)),(n%int((n)**0.5))))\n",
    "    fig, ax = plt.subplots(figsize=((n//int((n)**0.5))+4,((n-1)%int((n)**0.5))+4))\n",
    "\n",
    "    for node,xy in node_points.items():\n",
    "        ax.scatter(xy[0], xy[1], s=1000, color=\"red\", zorder=1)\n",
    "        for connected_node in [i[1] for i in graph if node == i[0]]:\n",
    "            c_node_xy = node_points[connected_node]\n",
    "            d_x = (c_node_xy[0]-xy[0])\n",
    "            d_y = (c_node_xy[1]-xy[1])\n",
    "            sign = 1\n",
    "            if d_x == 0 and abs(d_y)>1:\n",
    "                if xy[0] == 0 or xy[0]==(n-1):\n",
    "                    sign = -1\n",
    "                y_vals = np.linspace(xy[1], c_node_xy[1], 100)\n",
    "                x_func = lambda y : sign*(d_y/25)*(y-c_node_xy[1])*(y-xy[1]) + xy[0]\n",
    "                ax.plot(x_func(y_vals), y_vals, zorder=0, color=\"black\")\n",
    "                ax.arrow(x_func(y_vals[50]), y_vals[50], 0.01*d_x, 0.01*d_y, zorder=0, color=\"black\", head_width=0.05)\n",
    "            elif d_y == 0 and abs(d_x)>1:\n",
    "                if xy[1] == 0 or xy[1]==(n-1):\n",
    "                    sign = -1\n",
    "                x_vals = np.linspace(xy[0], c_node_xy[0], 100)\n",
    "                y_func = lambda x : sign*(d_x/25)*(x-c_node_xy[0])*(x-xy[0]) + xy[1]\n",
    "                ax.plot(x_vals, y_func(x_vals), zorder=0, color=\"black\")\n",
    "                ax.arrow(x_vals[50], y_func(x_vals[50]), 0.01*d_x, 0.01*d_y, zorder=0, color=\"black\", head_width=0.05)\n",
    "            else:\n",
    "                ax.plot([xy[0], c_node_xy[0]], [xy[1], c_node_xy[1]], zorder=0, color=\"black\")\n",
    "                ax.arrow(xy[0], xy[1], d_x*0.7, d_y*0.7, zorder=0, color=\"black\", head_width=0.05)\n",
    "        ax.annotate(node, xy, ha='center', va='center', weight='bold', color=\"white\", fontsize=20)\n",
    "\n",
    "    ax.axis('off')\n",
    "\n",
    "    plt.show()"
   ],
   "metadata": {
    "collapsed": false
   }
  }
 ],
 "metadata": {
  "kernelspec": {
   "display_name": "Python 3",
   "language": "python",
   "name": "python3"
  },
  "language_info": {
   "name": "python",
   "version": "3.11.2"
  },
  "orig_nbformat": 4
 },
 "nbformat": 4,
 "nbformat_minor": 2
}
