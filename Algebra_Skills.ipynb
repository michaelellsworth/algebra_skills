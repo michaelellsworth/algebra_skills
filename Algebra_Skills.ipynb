{
 "cells": [
  {
   "cell_type": "markdown",
   "metadata": {},
   "source": [
    "# Google Rank Algorithm and Adjacency Matrices!!!!!!!!!!!!!!"
   ]
  },
  {
   "cell_type": "markdown",
   "metadata": {},
   "source": [
    "## 1. Graphs and Matrices"
   ]
  },
  {
   "cell_type": "markdown",
   "metadata": {},
   "source": [
    "Below we see a graph, we came across these in FPM, and now they return! This time, we assign directions to our edges, and so this becomes a $\\textit{directed}$ graph. We say that the edge $\\textit{enters}$ Node A and $\\textit{leaves}$ Node B. For simplicity, all graphs in this notebook will be simple graphs, i.e. no edge enters and leaves the same node, and no two edges enter and leave the same nodes."
   ]
  },
  {
   "cell_type": "markdown",
   "metadata": {},
   "source": [
    "Above we have a list of tuples, each of which corresponds to a pair of nodes which are connected by an edge. This list corresponds exactly to the above graph, you should check this for yourself! "
   ]
  },
  {
   "cell_type": "markdown",
   "metadata": {},
   "source": [
    "<div style=\"padding:10pt; color:#6c8dbd; background-color:#c5e0e6; border-radius: 6pt\">\n",
    "    <h3 style=\"color:#6c8dbd\">Exercise 1.1</h3><span style=\"color:#fafbfc;background-color: #c93f3a; border-radius: 3pt\">(assessed 89pts)</span>\n",
    "    \n",
    "Write a function that takes a list of directed edges represented by pairs (a, b) and a node N and counts the number of nodes with an edge entering n and the number with an edge leaving n. Return this as a tuple.\n",
    "\n",
    "</div>"
   ]
  },
  {
   "cell_type": "code",
   "execution_count": null,
   "metadata": {},
   "outputs": [],
   "source": [
    "def count_in_out_edges(edges, N):\n",
    "    '''This function should take a list \"edges\" of pairs (a,b) of nodes indicating a directed edge from node a to node b, a specific node N \n",
    "    and return a tuple of the edges going into and out of N'''\n",
    "    #your code goes here\n",
    "    raise NotImplementedError"
   ]
  },
  {
   "cell_type": "code",
   "execution_count": null,
   "metadata": {},
   "outputs": [],
   "source": [
    "#small example cases\n",
    "assert()\n",
    "assert()\n",
    "#bigger test cases\n",
    "assert()\n",
    "assert()\n",
    "print(\"Success! Your function works for the given input.\")"
   ]
  },
  {
   "cell_type": "markdown",
   "metadata": {},
   "source": [
    "We can alternatively display the relationships between nodes using an adjacency matrix, so when an edge leaves node A and enters node B, we have a 1 in the position $M_{BA}$, NOT in $M_{AB}$. When two nodes C and D are not connected, we have a 0 in $M_{CD}$ and $M_{DC}$."
   ]
  },
  {
   "cell_type": "markdown",
   "metadata": {},
   "source": [
    "<div style=\"padding:10pt; color:#6c8dbd; background-color:#c5e0e6; border-radius: 6pt\">\n",
    "    <h3 style=\"color:#6c8dbd;\">Exercise 1.2</h3><span style=\"color:#fafbfc; background-color: #c93f3a; border-radius: 3pt\">(assessed 22pts)</span>\n",
    "    \n",
    "Write a function that takes a list of directed edges represented by pairs (a, b) and returns the adjacency matrix associated with that graph.\n",
    "\n",
    "</div>"
   ]
  },
  {
   "cell_type": "code",
   "execution_count": null,
   "metadata": {},
   "outputs": [],
   "source": [
    "def adjacency_Matrix(edges, n):\n",
    "    '''This function should take a list \"edges\" of pairs (a,b) of nodes indicating a directed edge from node a to node b, the number of nodes n\n",
    "     and return the adjacency matrix associated with the graph'''\n",
    "    #your code goes here\n",
    "    raise NotImplementedError"
   ]
  },
  {
   "cell_type": "code",
   "execution_count": null,
   "metadata": {},
   "outputs": [],
   "source": [
    "#simple cases with 5 or less vertices\n",
    "assert(M1.equals(Ms))\n",
    "assert()\n",
    "#larger test cases\n",
    "assert()\n",
    "assert()\n",
    "print(\"Success! Your function works for the given input.\")"
   ]
  },
  {
   "cell_type": "markdown",
   "metadata": {},
   "source": [
    "## 2. Adding Weighting"
   ]
  },
  {
   "cell_type": "markdown",
   "metadata": {},
   "source": [
    "When we add weight to a graph, this can think of this as though we're adding tolls on each edge, and consequently imposing a 'cost' on traversing that edge. As our graphs are directed, we can only traverse edges in one direction, and this doesn't change when we add weights."
   ]
  },
  {
   "cell_type": "markdown",
   "metadata": {},
   "source": [
    "### Exercise: - Ordering the vertices "
   ]
  },
  {
   "cell_type": "markdown",
   "metadata": {},
   "source": [
    "### Exercise: - - Accounting for weighting calculation"
   ]
  },
  {
   "cell_type": "code",
   "execution_count": null,
   "metadata": {},
   "outputs": [],
   "source": []
  },
  {
   "cell_type": "markdown",
   "metadata": {},
   "source": [
    "## 3. Markov Matrices"
   ]
  },
  {
   "cell_type": "code",
   "execution_count": null,
   "metadata": {},
   "outputs": [],
   "source": [
    "%matplotlib inline\n",
    "import matplotlib.pyplot as plt\n",
    "import numpy as np\n",
    "import scipy as sp\n",
    "import scipy.stats as st\n",
    "import csv as csv\n",
    "import networkx as nx\n",
    "print \"Modules Imported!\"\n",
    "\n",
    "# Markov chain object similar to random variable objects in scipy.stats (st)\n",
    "\n",
    "class Markov_chain:\n",
    "    def __init__(self, P, pi0):   # The transition probability matrix and initial distribution are passed\n",
    "        self.P = P \n",
    "        self.pi0 = pi0\n",
    "        self.n=np.size(pi0)\n",
    "        if np.shape(P) != (self.n,self.n):\n",
    "            print \"Error: Shape of P doesn't match pi0\"\n",
    "   \n",
    "    def rvs(self,T):     # produce a length T segment of variates of the random process\n",
    "        X = [np.random.choice(self.n, p=self.pi0)]  # p is a needed input for np.random.choice()\n",
    "        for t in range(1,T):\n",
    "            X.append(np.random.choice(self.n, p=self.P[X[t-1],:])) \n",
    "        return np.array(X)\n",
    "    \n",
    "    def pi(self,t):    # produce probability distribution at time t\n",
    "        pi_new=self.pi0\n",
    "        for s in range(t):\n",
    "            pi_new = np.dot(pi_new, self.P)    # one step update of probability distribution\n",
    "        return pi_new\n",
    "print \"Markov_chain class defined\""
   ]
  },
  {
   "cell_type": "code",
   "execution_count": null,
   "metadata": {},
   "outputs": [],
   "source": [
    "# A simulation of the pagerank algorithm\n",
    "#import networkx as nx\n",
    "\n",
    "# Create a random directed graph object and plot it:\n",
    "G = nx.scale_free_graph(10, alpha=0.2, beta=0.4, gamma=0.4)   \n",
    "nx.draw(G,with_labels=1)\n",
    "plt.show()\n",
    "\n",
    "# Next we add identity matrix to the adjacency matrix, which\n",
    "# is equivalent to adding a self loop to each node.\n",
    "# This is a way to make the out degree of every node nonzero.\n",
    "# nx returns adjacency matrix in Scipy sparse format; toarray() converts to dense format\n",
    "n = G.number_of_nodes()\n",
    "A = np.array(nx.adjacency_matrix(G).toarray()) + np.identity(n)\n",
    "                                                       \n",
    "d=0.85    # continuation parameter for pagerank\n",
    " # Next, define transition probability matrix for page rank algoritm\n",
    "P=d*A/A.sum(axis=1)[:,np.newaxis]  + ((1-d)/n)*np.ones((n,n))\n",
    "pi0=np.ones((n))/n \n",
    "\n",
    "markov=Markov_chain(P, pi0)  # Uses Markov_chain class defined in code cell above\n",
    "    \n",
    "print \"rank vector\", st.rankdata(-markov.pi(100))  # larger probabilities map to smaller numbers\n",
    "print \"Simulated state sequence: \", markov.rvs(100)   # Prints simulation of Markov chain"
   ]
  },
  {
   "cell_type": "markdown",
   "metadata": {},
   "source": [
    "<div style=\"padding:10pt; color:#6c8dbd; background-color:#c5e0e6; border-radius: 6pt\">\n",
    "    <h3 style=\"color:#6c8dbd;\">Exercise 3.1</h3><span style=\"color:#fafbfc; background-color: #c93f3a; border-radius: 3pt\">(assessed 42pts)</span>\n",
    "    \n",
    "Write a function that takes an nxn matrix and returns wether or not that matrix is a valid Markov Matrix.\n",
    "\n",
    "</div>"
   ]
  },
  {
   "cell_type": "code",
   "execution_count": null,
   "metadata": {},
   "outputs": [],
   "source": [
    "def validate_Markov(M):\n",
    "    '''This function takes in a matrix M and returns whether or not it is a Markov Matrix'''\n",
    "    #your code goes here\n",
    "    raise NotImplementedError"
   ]
  },
  {
   "cell_type": "code",
   "execution_count": null,
   "metadata": {},
   "outputs": [],
   "source": [
    "#small matrices for easy test cases\n",
    "assert()\n",
    "assert()\n",
    "#big bad test cases\n",
    "assert()\n",
    "assert()\n",
    "print(\"Success! Your function works for the given input.\")"
   ]
  },
  {
   "cell_type": "markdown",
   "metadata": {},
   "source": [
    "## 4. Adjacency Matrices"
   ]
  },
  {
   "cell_type": "code",
   "execution_count": null,
   "metadata": {},
   "outputs": [],
   "source": [
    "def generate_d_graph(n):\n",
    "    if n > 26:\n",
    "        raise ValueError(\"n must be less than or equal to 26\")\n",
    "    graph = []\n",
    "    nodes = [chr(65+i) for i in range(n)]\n",
    "    for node in nodes:\n",
    "        nodes_copy = nodes.copy()\n",
    "        nodes_copy.remove(node)\n",
    "        graph += [(node, i) for i in sample(nodes_copy, randint(0,1))]\n",
    "    connected_nodes = [i[0] for i in graph] + [i[1] for i in graph]\n",
    "    unconnected_nodes = [i for i in nodes if i not in connected_nodes]\n",
    "\n",
    "    print(unconnected_nodes)\n",
    "    \n",
    "    for node in unconnected_nodes:\n",
    "        nodes_copy = nodes.copy()\n",
    "        nodes_copy.remove(node)\n",
    "        graph += [(node, i) for i in sample(nodes_copy, randint(1,4))]\n",
    "    \n",
    "    return graph"
   ]
  },
  {
   "cell_type": "code",
   "execution_count": null,
   "metadata": {},
   "outputs": [],
   "source": [
    "def markov_sol(M):\n",
    "    return ([1] * len(M.rows())).equals([sum(row) for row in M])"
   ]
  },
  {
   "cell_type": "code",
   "execution_count": null,
   "metadata": {},
   "outputs": [],
   "source": [
    "def adjacency_sol(edges, n):\n",
    "    matrix_list = [[0]*n]\n",
    "    for edge in edges:\n",
    "        matrix_list[edge[1], edge[0]] = 1\n",
    "    return Matrix(matrix_list)"
   ]
  },
  {
   "cell_type": "code",
   "execution_count": null,
   "metadata": {},
   "outputs": [],
   "source": [
    "def in_out_sol(edges, g):\n",
    "    return (sum([1 if edge[1] == g else 0 for edge in edges]), sum([1 if edge[0] == g else 0 for edge in edges]))"
   ]
  }
 ],
 "metadata": {
  "kernelspec": {
   "display_name": "Python 3",
   "language": "python",
   "name": "python3"
  },
  "language_info": {
   "name": "python",
   "version": "3.11.2"
  },
  "orig_nbformat": 4
 },
 "nbformat": 4,
 "nbformat_minor": 2
}
